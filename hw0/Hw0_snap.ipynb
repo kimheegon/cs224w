{
 "cells": [
  {
   "cell_type": "markdown",
   "metadata": {},
   "source": [
    "## Documentation:\n",
    "* https://snap.stanford.edu/snappy/doc/index.html\n",
    "## Data:\n",
    "* http://snap.stanford.edu/data/wiki-Vote.html\n",
    "* http://snap.stanford.edu/class/cs224w-data/hw0/stackoverflow-Java.txt.gz"
   ]
  },
  {
   "cell_type": "code",
   "execution_count": 95,
   "metadata": {},
   "outputs": [],
   "source": [
    "import snap\n",
    "import matplotlib.pyplot as plt\n",
    "import pandas as pd\n",
    "import numpy as np\n",
    "\n",
    "from collections import defaultdict"
   ]
  },
  {
   "cell_type": "markdown",
   "metadata": {},
   "source": [
    "# Basic Types"
   ]
  },
  {
   "cell_type": "markdown",
   "metadata": {},
   "source": [
    "## Vector Types"
   ]
  },
  {
   "cell_type": "code",
   "execution_count": 7,
   "metadata": {},
   "outputs": [],
   "source": [
    "v = snap.TIntV() # create a empty vector"
   ]
  },
  {
   "cell_type": "code",
   "execution_count": 8,
   "metadata": {},
   "outputs": [],
   "source": [
    "for i in range(5):\n",
    "    v.Add(i) # Add elements"
   ]
  },
  {
   "cell_type": "code",
   "execution_count": 11,
   "metadata": {},
   "outputs": [
    {
     "name": "stdout",
     "output_type": "stream",
     "text": [
      "5\n",
      "v[2] = 2\n"
     ]
    }
   ],
   "source": [
    "print(v.Len())\n",
    "print(\"v[2] =\", v[2])"
   ]
  },
  {
   "cell_type": "code",
   "execution_count": 12,
   "metadata": {},
   "outputs": [
    {
     "name": "stdout",
     "output_type": "stream",
     "text": [
      "v[2] = 6\n"
     ]
    }
   ],
   "source": [
    "v.SetVal(2,6)\n",
    "print(\"v[2] =\", v[2])"
   ]
  },
  {
   "cell_type": "code",
   "execution_count": 13,
   "metadata": {},
   "outputs": [
    {
     "data": {
      "text/plain": [
       "[0, 1, 6, 3, 4]"
      ]
     },
     "execution_count": 13,
     "metadata": {},
     "output_type": "execute_result"
    }
   ],
   "source": [
    "[item for item in v]"
   ]
  },
  {
   "cell_type": "markdown",
   "metadata": {},
   "source": [
    "## Hash Table Types"
   ]
  },
  {
   "cell_type": "code",
   "execution_count": 15,
   "metadata": {},
   "outputs": [
    {
     "name": "stdout",
     "output_type": "stream",
     "text": [
      "5\n",
      "h[3] = three\n",
      "[(5, 'five'), (3, 'three'), (9, 'nine'), (6, 'six'), (1, 'one')]\n"
     ]
    }
   ],
   "source": [
    "h = snap.TIntStrH()\n",
    "\n",
    "h[5] = \"five\"\n",
    "h[3] = \"three\"\n",
    "h[9] = \"nine\"\n",
    "h[6] = \"six\"\n",
    "h[1] = \"one\"\n",
    "\n",
    "print(h.Len())\n",
    "print(\"h[3] =\", h[3])\n",
    "print([(key, h[key]) for key in h])"
   ]
  },
  {
   "cell_type": "markdown",
   "metadata": {},
   "source": [
    "## Pair Types"
   ]
  },
  {
   "cell_type": "code",
   "execution_count": 16,
   "metadata": {},
   "outputs": [
    {
     "name": "stdout",
     "output_type": "stream",
     "text": [
      "1\n",
      "one\n"
     ]
    }
   ],
   "source": [
    "p = snap.TIntStrPr(1, \"one\")\n",
    "\n",
    "print(p.GetVal1())\n",
    "print(p.GetVal2())"
   ]
  },
  {
   "cell_type": "markdown",
   "metadata": {},
   "source": [
    "## Graph and Network Types"
   ]
  },
  {
   "cell_type": "code",
   "execution_count": 2,
   "metadata": {},
   "outputs": [],
   "source": [
    "G1 = snap.TNGraph.New()\n",
    "G2 = snap.TUNGraph.New()\n",
    "N1 = snap.TNEANet.New()"
   ]
  },
  {
   "cell_type": "code",
   "execution_count": 3,
   "metadata": {},
   "outputs": [
    {
     "data": {
      "text/plain": [
       "-1"
      ]
     },
     "execution_count": 3,
     "metadata": {},
     "output_type": "execute_result"
    }
   ],
   "source": [
    "G1.AddNode(1)\n",
    "G1.AddNode(5)\n",
    "G1.AddNode(32)\n",
    "\n",
    "G1.AddEdge(1,5)\n",
    "G1.AddEdge(5,1)\n",
    "G1.AddEdge(5,32)"
   ]
  },
  {
   "cell_type": "code",
   "execution_count": 4,
   "metadata": {},
   "outputs": [
    {
     "name": "stdout",
     "output_type": "stream",
     "text": [
      "node: 1, out-degree 1, in-degree 1\n",
      "node: 5, out-degree 2, in-degree 1\n",
      "node: 32, out-degree 0, in-degree 1\n"
     ]
    }
   ],
   "source": [
    "for NI in G1.Nodes():\n",
    "    print(\"node: %d, out-degree %d, in-degree %d\" % ( NI.GetId(), NI.GetOutDeg(), NI.GetInDeg()))"
   ]
  },
  {
   "cell_type": "code",
   "execution_count": 5,
   "metadata": {},
   "outputs": [
    {
     "name": "stdout",
     "output_type": "stream",
     "text": [
      "edge (1, 5)\n",
      "edge (5, 1)\n",
      "edge (5, 32)\n"
     ]
    }
   ],
   "source": [
    "for EI in G1.Edges():\n",
    "    print(\"edge (%d, %d)\" % (EI.GetSrcNId(), EI.GetDstNId()))"
   ]
  },
  {
   "cell_type": "code",
   "execution_count": 6,
   "metadata": {},
   "outputs": [
    {
     "name": "stdout",
     "output_type": "stream",
     "text": [
      "edge (1 5)\n",
      "edge (5 1)\n",
      "edge (5 32)\n"
     ]
    }
   ],
   "source": [
    "for NI in G1.Nodes():\n",
    "    for Id in NI.GetOutEdges():\n",
    "        print(\"edge (%d %d)\" % (NI.GetId(), Id))"
   ]
  },
  {
   "cell_type": "code",
   "execution_count": 35,
   "metadata": {},
   "outputs": [],
   "source": [
    "FOut = snap.TFOut(\"test.graph\")\n",
    "G1.Save(FOut)\n",
    "FOut.Flush()"
   ]
  },
  {
   "cell_type": "code",
   "execution_count": 36,
   "metadata": {},
   "outputs": [],
   "source": [
    "FIn = snap.TFIn(\"test.graph\")\n",
    "G1 = snap.TNGraph.Load(FIn)"
   ]
  },
  {
   "cell_type": "code",
   "execution_count": 37,
   "metadata": {},
   "outputs": [],
   "source": [
    "snap.SaveEdgeList(G1, \"test.txt\", \"Save as tab-separated list of edges\")"
   ]
  },
  {
   "cell_type": "code",
   "execution_count": 38,
   "metadata": {},
   "outputs": [],
   "source": [
    "G1 = snap.LoadEdgeList(snap.PNGraph, \"test.txt\", 0, 1)"
   ]
  },
  {
   "cell_type": "code",
   "execution_count": 7,
   "metadata": {},
   "outputs": [],
   "source": [
    "snap.DrawGViz(G1, snap.gvlDot, \"graph1.png\", \"graph 1\")"
   ]
  },
  {
   "cell_type": "code",
   "execution_count": 8,
   "metadata": {},
   "outputs": [],
   "source": [
    "snap.PlotInDegDistr(G1, \"graph1\", \"graph1 In Degree\")"
   ]
  },
  {
   "cell_type": "markdown",
   "metadata": {},
   "source": [
    "## Homework 0"
   ]
  },
  {
   "cell_type": "markdown",
   "metadata": {},
   "source": [
    "### 1) Analyzing the Wikipedia voters network"
   ]
  },
  {
   "cell_type": "code",
   "execution_count": 2,
   "metadata": {},
   "outputs": [],
   "source": [
    "G = snap.LoadEdgeList(snap.PNGraph, \"wiki-Vote.txt\", 0, 1)"
   ]
  },
  {
   "cell_type": "raw",
   "metadata": {},
   "source": [
    "snap.PrintInfo(G, \"QA Stats\", \"qa-info.txt\", False)\n",
    "snap.DrawGViz(G, snap.gvlDot, \"graph.png\", \"graph\")\n",
    "snap.PlotInDegDistr(G, \"Wiki Vote\", \"wiki-Vote In Degree\")"
   ]
  },
  {
   "cell_type": "markdown",
   "metadata": {},
   "source": [
    "#### The number of nodes in the network"
   ]
  },
  {
   "cell_type": "code",
   "execution_count": 3,
   "metadata": {},
   "outputs": [
    {
     "name": "stdout",
     "output_type": "stream",
     "text": [
      "QA Stats: Directed\r\n",
      "  Nodes:                    7115\r\n",
      "  Edges:                    103689\r\n",
      "  Zero Deg Nodes:           0\r\n",
      "  Zero InDeg Nodes:         4734\r\n",
      "  Zero OutDeg Nodes:        1005\r\n",
      "  NonZero In-Out Deg Nodes: 1376\r\n",
      "  Unique directed edges:    103689\r\n",
      "  Unique undirected edges:  100762\r\n",
      "  Self Edges:               0\r\n",
      "  BiDir Edges:              5854\r\n",
      "  Closed triangles:         608389\r\n",
      "  Open triangles:           12720413\r\n",
      "  Frac. of closed triads:   0.045645\r\n",
      "  Connected component size: 0.993113\r\n",
      "  Strong conn. comp. size:  0.182713\r\n",
      "  Approx. full diameter:    7\r\n",
      "  90% effective diameter:  3.789745\r\n"
     ]
    }
   ],
   "source": [
    "snap.PrintInfo(G, \"QA Stats\", \"qa-info.txt\", False)\n",
    "!cat qa-info.txt"
   ]
  },
  {
   "cell_type": "code",
   "execution_count": 4,
   "metadata": {},
   "outputs": [
    {
     "name": "stdout",
     "output_type": "stream",
     "text": [
      "Number of nodes: 7115\n",
      "The number of nodes with a self-edge: 0\n",
      "The number of directed edge: 103689\n",
      "The number of undirected edges in the network: 100762\n",
      "The number of reciprocated edges in the network: 2927\n",
      "The number of nodes of zero out-degree: 1005\n",
      "The number of nodes of zero in-degree: 4734\n",
      "The number of nodes with more than 10 outgoing edges: 1612\n",
      "The number of nodes with fewer than 10 incoming edges: 5165\n"
     ]
    }
   ],
   "source": [
    "nb_nodes = len([node for node in G.Nodes()]) # G.GetNodes()\n",
    "\n",
    "nb_self_edge = sum([edge.GetSrcNId() == edge.GetDstNId()\n",
    "                   for edge in G.Edges()\n",
    "                   ]) # G.GetEdges()\n",
    "\n",
    "nb_directed_edge = sum([edge.GetSrcNId() != edge.GetDstNId()\n",
    "                   for edge in G.Edges()\n",
    "                   ])\n",
    "\n",
    "undirected_edge = set()\n",
    "for edge in G.Edges():\n",
    "    src = edge.GetSrcNId()\n",
    "    dst = edge.GetDstNId()\n",
    "    if src == dst:\n",
    "        continue\n",
    "    undirected_edge.update(((src, dst),))\n",
    "    undirected_edge.update(((dst, src),))\n",
    "nb_undirected_edge = len(undirected_edge) // 2\n",
    "\n",
    "reciprocated_edges = set() # snap.CntUniqBiDirEdges(G)\n",
    "for edge in G.Edges():\n",
    "    src = edge.GetSrcNId()\n",
    "    dst = edge.GetDstNId()\n",
    "    if src != dst and G.IsEdge(dst, src):\n",
    "        reciprocated_edges.update(((src, dst),))\n",
    "\n",
    "nb_reciprocated_edge = len(reciprocated_edges) // 2\n",
    "\n",
    "out_degree_l = []\n",
    "in_degree_l = []\n",
    "for node in G.Nodes():\n",
    "    out_degree_l.append(node.GetOutDeg())\n",
    "    in_degree_l.append(node.GetInDeg())\n",
    "nb_nodes_0_out_degree = sum([od == 0 for od in out_degree_l])\n",
    "nb_nodes_0_in_degree = sum([od == 0 for od in in_degree_l])\n",
    "nb_nodes_10_out_degree = sum([od > 10 for od in out_degree_l])\n",
    "nb_nodes_10_in_degree = sum([od < 10 for od in in_degree_l])\n",
    "\n",
    "print(f'Number of nodes: {nb_nodes}')\n",
    "print(f'The number of nodes with a self-edge: {nb_self_edge}')\n",
    "print(f'The number of directed edge: {nb_directed_edge}')\n",
    "print(f'The number of undirected edges in the network: {nb_undirected_edge}')\n",
    "print(f'The number of reciprocated edges in the network: {nb_reciprocated_edge}')\n",
    "print(f'The number of nodes of zero out-degree: {nb_nodes_0_out_degree}')\n",
    "print(f'The number of nodes of zero in-degree: {nb_nodes_0_in_degree}')\n",
    "print(f'The number of nodes with more than 10 outgoing edges: {nb_nodes_10_out_degree}')\n",
    "print(f'The number of nodes with fewer than 10 incoming edges: {nb_nodes_10_in_degree}')"
   ]
  },
  {
   "cell_type": "markdown",
   "metadata": {},
   "source": [
    "### 2. Further Analyzing the Wikipedia voters network"
   ]
  },
  {
   "cell_type": "markdown",
   "metadata": {},
   "source": [
    "#### 2.1) distribution of out-degrees of nodes in the network on a log-log scale"
   ]
  },
  {
   "cell_type": "markdown",
   "metadata": {},
   "source": [
    "Plot the distribution of out-degrees of nodes in the network on a log-log scale.\n",
    "Each data point is a pair (x, y) where x is a positive integer and y is the number of nodes\n",
    "in the network with out-degree equal to x. Restrict the range of x between the minimum\n",
    "and maximum out-degrees. You may filter out data points with a 0 entry. For the log-log\n",
    "scale, use base 10 for both x and y axes"
   ]
  },
  {
   "cell_type": "code",
   "execution_count": 6,
   "metadata": {},
   "outputs": [],
   "source": [
    "G = snap.LoadEdgeList(snap.PNGraph, \"wiki-Vote.txt\", 0, 1)\n",
    "# snap.PlotOutDegDistr(G, \"Wiki Vote\", \"Wiki Vote\") only for low node dimention <100"
   ]
  },
  {
   "cell_type": "code",
   "execution_count": 34,
   "metadata": {},
   "outputs": [
    {
     "data": {
      "text/html": [
       "<div>\n",
       "<style scoped>\n",
       "    .dataframe tbody tr th:only-of-type {\n",
       "        vertical-align: middle;\n",
       "    }\n",
       "\n",
       "    .dataframe tbody tr th {\n",
       "        vertical-align: top;\n",
       "    }\n",
       "\n",
       "    .dataframe thead th {\n",
       "        text-align: right;\n",
       "    }\n",
       "</style>\n",
       "<table border=\"1\" class=\"dataframe\">\n",
       "  <thead>\n",
       "    <tr style=\"text-align: right;\">\n",
       "      <th></th>\n",
       "      <th>x</th>\n",
       "      <th>y</th>\n",
       "    </tr>\n",
       "  </thead>\n",
       "  <tbody>\n",
       "    <tr>\n",
       "      <th>0</th>\n",
       "      <td>1</td>\n",
       "      <td>2382</td>\n",
       "    </tr>\n",
       "    <tr>\n",
       "      <th>1</th>\n",
       "      <td>2</td>\n",
       "      <td>704</td>\n",
       "    </tr>\n",
       "    <tr>\n",
       "      <th>2</th>\n",
       "      <td>3</td>\n",
       "      <td>401</td>\n",
       "    </tr>\n",
       "    <tr>\n",
       "      <th>3</th>\n",
       "      <td>4</td>\n",
       "      <td>279</td>\n",
       "    </tr>\n",
       "    <tr>\n",
       "      <th>4</th>\n",
       "      <td>5</td>\n",
       "      <td>162</td>\n",
       "    </tr>\n",
       "  </tbody>\n",
       "</table>\n",
       "</div>"
      ],
      "text/plain": [
       "   x     y\n",
       "0  1  2382\n",
       "1  2   704\n",
       "2  3   401\n",
       "3  4   279\n",
       "4  5   162"
      ]
     },
     "execution_count": 34,
     "metadata": {},
     "output_type": "execute_result"
    }
   ],
   "source": [
    "d = defaultdict(int)\n",
    "for node in G.Nodes():\n",
    "    out_degree = node.GetOutDeg()\n",
    "    if out_degree > 0:\n",
    "        d[out_degree] += 1\n",
    "d = dict(d)\n",
    "l = sorted(d.items(), key=lambda x: x[0])\n",
    "df = pd.DataFrame(l, columns=[\"x\", \"y\"])\n",
    "df.head()"
   ]
  },
  {
   "cell_type": "code",
   "execution_count": 35,
   "metadata": {},
   "outputs": [
    {
     "data": {
      "text/plain": [
       "<AxesSubplot:xlabel='x'>"
      ]
     },
     "execution_count": 35,
     "metadata": {},
     "output_type": "execute_result"
    },
    {
     "data": {
      "image/png": "[encoded data removed]",
      "text/plain": [
       "<Figure size 432x288 with 1 Axes>"
      ]
     },
     "metadata": {
      "needs_background": "light"
     },
     "output_type": "display_data"
    }
   ],
   "source": [
    "df.plot(x=\"x\", y=\"y\", loglog=True)"
   ]
  },
  {
   "cell_type": "markdown",
   "metadata": {},
   "source": [
    "#### 2.2) Compute and plot the least-square regression line for the out-degree distribution in the log-log scale plot"
   ]
  },
  {
   "cell_type": "markdown",
   "metadata": {},
   "source": [
    "Compute and plot the least-square regression line for the out-degree distribution\n",
    "in the log-log scale plot. Note we want to find coefficients a and b such that the function\n",
    "log 10 y = a · log 10 x + b, equivalently, y = 10 b · x a , best fits the out-degree distribution.\n",
    "What are the coefficients a and b? For this part, you might want to use the method called\n",
    "polyfit in NumPy with deg parameter equal to 1"
   ]
  },
  {
   "cell_type": "code",
   "execution_count": 38,
   "metadata": {},
   "outputs": [
    {
     "data": {
      "text/plain": [
       "((237,), (237,))"
      ]
     },
     "execution_count": 38,
     "metadata": {},
     "output_type": "execute_result"
    }
   ],
   "source": [
    "x_log10 = np.log10(df.x)\n",
    "y_log10 = np.log10(df.y)\n",
    "x_log10.shape, y_log10.shape"
   ]
  },
  {
   "cell_type": "code",
   "execution_count": 45,
   "metadata": {},
   "outputs": [
    {
     "name": "stdout",
     "output_type": "stream",
     "text": [
      "Coefficients:\n",
      "> a: -1.28\n",
      "> b: 3.13\n"
     ]
    }
   ],
   "source": [
    "a, b = np.polyfit(x_log10, y_log10, deg=1)\n",
    "print(f'Coefficients:\\n> a: {a:.2f}\\n> b: {b:.2f}')"
   ]
  },
  {
   "cell_type": "code",
   "execution_count": 49,
   "metadata": {},
   "outputs": [],
   "source": [
    "y_log10_pred = a * x_log10 + b"
   ]
  },
  {
   "cell_type": "code",
   "execution_count": 51,
   "metadata": {},
   "outputs": [
    {
     "data": {
      "image/png": "[encoded data removed]",
      "text/plain": [
       "<Figure size 432x288 with 1 Axes>"
      ]
     },
     "metadata": {
      "needs_background": "light"
     },
     "output_type": "display_data"
    }
   ],
   "source": [
    "plt.plot(x_log10, y_log10)\n",
    "plt.plot(x_log10, y_log10_pred)\n",
    "plt.show()"
   ]
  },
  {
   "cell_type": "markdown",
   "metadata": {},
   "source": [
    "### 3) Finding Experts on the Java Programming Language on StackOverflow"
   ]
  },
  {
   "cell_type": "code",
   "execution_count": 52,
   "metadata": {},
   "outputs": [],
   "source": [
    "G = snap.LoadEdgeList(snap.PNGraph, \"stackoverflow-Java.txt\", 0, 1)"
   ]
  },
  {
   "cell_type": "markdown",
   "metadata": {},
   "source": [
    "3.1) The number of weakly connected components in the network. This value can be calculated\n",
    "in Snap.py via function GetWccs"
   ]
  },
  {
   "cell_type": "code",
   "execution_count": 56,
   "metadata": {},
   "outputs": [],
   "source": [
    "components = snap.TCnComV()\n",
    "snap.GetWccs(G, components)"
   ]
  },
  {
   "cell_type": "code",
   "execution_count": 62,
   "metadata": {},
   "outputs": [
    {
     "name": "stdout",
     "output_type": "stream",
     "text": [
      "Number of weakly connected components: 10143\n"
     ]
    }
   ],
   "source": [
    "print(f'Number of weakly connected components: {components.Len()}')"
   ]
  },
  {
   "cell_type": "markdown",
   "metadata": {},
   "source": [
    "3.2) The number of edges and the number of nodes in the largest weakly connected component.\n",
    "The largest weakly connected component is calculated in Snap.py with function GetMxWcc"
   ]
  },
  {
   "cell_type": "code",
   "execution_count": 64,
   "metadata": {},
   "outputs": [],
   "source": [
    "mxwcc = snap.GetMxWcc(G)"
   ]
  },
  {
   "cell_type": "code",
   "execution_count": 68,
   "metadata": {},
   "outputs": [
    {
     "name": "stdout",
     "output_type": "stream",
     "text": [
      "Number of nodes: 131188\n",
      "Number of Edges: 322486\n"
     ]
    }
   ],
   "source": [
    "print(f'Number of nodes: {mxwcc.GetNodes()}\\nNumber of Edges: {mxwcc.GetEdges()}')"
   ]
  },
  {
   "cell_type": "markdown",
   "metadata": {},
   "source": [
    "3.3) IDs of the top 3 most central nodes in the network by PagePank scores. PageRank scores\n",
    "are calculated in Snap.py with function GetPageRank"
   ]
  },
  {
   "cell_type": "code",
   "execution_count": 88,
   "metadata": {},
   "outputs": [],
   "source": [
    "PRankH = snap.TIntFltH()\n",
    "snap.GetPageRank(G, PRankH)"
   ]
  },
  {
   "cell_type": "code",
   "execution_count": 89,
   "metadata": {},
   "outputs": [],
   "source": [
    "def GetTop(hashT, n):\n",
    "    hashT.SortByDat(False) # AScending order by default\n",
    "    result = []\n",
    "    for i, item in enumerate(hashT):\n",
    "        if i == n:\n",
    "            break\n",
    "        result.append((item, round(hashT[item], 4)))\n",
    "    return result"
   ]
  },
  {
   "cell_type": "code",
   "execution_count": 90,
   "metadata": {},
   "outputs": [
    {
     "data": {
      "text/plain": [
       "[(992484, 0.014), (135152, 0.01), (22656, 0.0071)]"
      ]
     },
     "execution_count": 90,
     "metadata": {},
     "output_type": "execute_result"
    }
   ],
   "source": [
    "GetTop(PRankH, 3)"
   ]
  },
  {
   "cell_type": "markdown",
   "metadata": {},
   "source": [
    "3.4) IDs of the top 3 hubs and top 3 authorities in the network by HITS scores. HITS scores\n",
    "are calculated in Snap.py with function GetHits"
   ]
  },
  {
   "cell_type": "code",
   "execution_count": 79,
   "metadata": {},
   "outputs": [],
   "source": [
    "NIdHubH = snap.TIntFltH()\n",
    "NIdAuthH = snap.TIntFltH()\n",
    "snap.GetHits(G, NIdHubH, NIdAuthH)"
   ]
  },
  {
   "cell_type": "code",
   "execution_count": 91,
   "metadata": {},
   "outputs": [
    {
     "data": {
      "text/plain": [
       "[(892029, 0.0734), (1194415, 0.0596), (359862, 0.0569)]"
      ]
     },
     "execution_count": 91,
     "metadata": {},
     "output_type": "execute_result"
    }
   ],
   "source": [
    "GetTop(NIdHubH, 3)"
   ]
  },
  {
   "cell_type": "code",
   "execution_count": 92,
   "metadata": {},
   "outputs": [
    {
     "data": {
      "text/plain": [
       "[(22656, 0.6047), (157882, 0.2987), (571407, 0.2839)]"
      ]
     },
     "execution_count": 92,
     "metadata": {},
     "output_type": "execute_result"
    }
   ],
   "source": [
    "GetTop(NIdAuthH, 3)"
   ]
  },
  {
   "cell_type": "code",
   "execution_count": null,
   "metadata": {},
   "outputs": [],
   "source": []
  }
 ],
 "metadata": {
  "kernelspec": {
   "display_name": "Python 3",
   "language": "python",
   "name": "python3"
  },
  "language_info": {
   "codemirror_mode": {
    "name": "ipython",
    "version": 3
   },
   "file_extension": ".py",
   "mimetype": "text/x-python",
   "name": "python",
   "nbconvert_exporter": "python",
   "pygments_lexer": "ipython3",
   "version": "3.8.5"
  }
 },
 "nbformat": 4,
 "nbformat_minor": 4
}
