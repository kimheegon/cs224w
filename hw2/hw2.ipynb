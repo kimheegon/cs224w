{
 "cells": [
  {
   "cell_type": "code",
   "execution_count": 97,
   "metadata": {},
   "outputs": [],
   "source": [
    "import numpy as np\n",
    "\n",
    "from collections import defaultdict"
   ]
  },
  {
   "cell_type": "markdown",
   "metadata": {},
   "source": [
    "# 1 Node Classification [25 points]"
   ]
  },
  {
   "cell_type": "markdown",
   "metadata": {},
   "source": [
    "### 1.1 Relational Classification [10 points]"
   ]
  },
  {
   "cell_type": "markdown",
   "metadata": {},
   "source": [
    "As we discussed in class, we can use relational classification to predict node labels. Consider the\n",
    "graph G as shown in Figure 1. We would like to classify nodes into 2 classes ”+” and ”-”. Labels\n",
    "for node 3, 5, 8 and 10 are given (red for ”+”, blue for ”-”). Recall that using a probabilistic\n",
    "relational classifier to predict label Y i for node i is defined as:"
   ]
  },
  {
   "cell_type": "markdown",
   "metadata": {},
   "source": [
    "$ P(Y_{i} = c) = \\frac{1}{|N_{i}|} \\sum_{(i,j) \\in E} W(i,j) P(Y_{j} = c)$ "
   ]
  },
  {
   "cell_type": "markdown",
   "metadata": {},
   "source": [
    "where $|N_{i}|$ is the number of neighbors of node i. Assume all the edges have edge weight $W (i, j) = 1$ in this graph. For labeled nodes, initialize with the ground-truth Y labels, i.e., $P (Y_{3} = +) = P(Y_{5} = +) = 1.0, P(Y_{8} = +) = P(Y_{10} = +) = 0 $. For unlabeled nodes, use unbiased initialization $P(Y_{i}= +) = 0.5$. Update nodes by node ID in ascending order (i.e., update node 1 first, then node 2, etc.)"
   ]
  },
  {
   "cell_type": "code",
   "execution_count": 85,
   "metadata": {},
   "outputs": [],
   "source": [
    "edges = [(1,2), (1,3), (2,3),\n",
    "         (2,4), (3,6), (4,7),\n",
    "         (4,8), (5,8), (5,9),\n",
    "         (5,6), (6,9), (6, 10),\n",
    "         (7,8), (8,9), (9,10)]\n",
    "nodes = list(range(10))\n",
    "pos_nodes = [3,5]\n",
    "neg_nodes = [8, 10]\n",
    "\n",
    "G = defaultdict(list)\n",
    "for i, j in edges:\n",
    "    G[i-1].append(j-1)\n",
    "    G[j-1].append(i-1)\n",
    "G = dict(G)"
   ]
  },
  {
   "cell_type": "markdown",
   "metadata": {},
   "source": [
    "#### (i) After the second iteration, give $P(Y_{i} = +)$ for i = 2, 4, 6. [6 points]"
   ]
  },
  {
   "cell_type": "code",
   "execution_count": 83,
   "metadata": {},
   "outputs": [],
   "source": [
    "def Q1_1(nb_it=20, ep=1e-6, idxs=[2,4,6]):\n",
    "    P = [ 0.5 for i in nodes]\n",
    "    for i in pos_nodes:\n",
    "        P[i-1] = 1\n",
    "    for i in neg_nodes:\n",
    "        P[i-1] = 0\n",
    "    print(P)\n",
    "    it = 1\n",
    "    has_change = True\n",
    "    while (it <= nb_it) and has_change:\n",
    "        print(f'It: {it}')\n",
    "        has_change = False\n",
    "        for node in nodes:\n",
    "            if (node+1 in pos_nodes) or (node+1 in neg_nodes):\n",
    "                continue\n",
    "\n",
    "            nids = G[node]\n",
    "            p = sum([P[j] for j in nids])\n",
    "            p_new = p / len(nids)\n",
    "            if abs(P[node] - p_new) > ep:\n",
    "                has_change = True\n",
    "            P[node] = p_new\n",
    "        if it == 2:\n",
    "            print([(i, P[i-1]) for i in idxs])\n",
    "        it += 1\n",
    "    return P"
   ]
  },
  {
   "cell_type": "code",
   "execution_count": 84,
   "metadata": {
    "scrolled": false
   },
   "outputs": [
    {
     "name": "stdout",
     "output_type": "stream",
     "text": [
      "[0.5, 0.5, 1, 0.5, 1, 0.5, 0.5, 0, 0.5, 0]\n",
      "It: 1\n",
      "It: 2\n",
      "[(2, 0.7638888888888888), (4, 0.32407407407407407), (6, 0.6015625)]\n",
      "It: 3\n",
      "It: 4\n",
      "It: 5\n",
      "It: 6\n",
      "It: 7\n",
      "It: 8\n",
      "It: 9\n",
      "It: 10\n",
      "It: 11\n",
      "It: 12\n",
      "It: 13\n",
      "It: 14\n"
     ]
    }
   ],
   "source": [
    "P = Q1_1()"
   ]
  },
  {
   "cell_type": "raw",
   "metadata": {},
   "source": [
    "Node 2 --> 0.76\n",
    "     4 --> 0.32\n",
    "     6 --> 0.60"
   ]
  },
  {
   "cell_type": "markdown",
   "metadata": {},
   "source": [
    "#### If we use 0.5 as the probability threshold, i.e., consider a node i belonging to class ”+” if $P(Y_{i} = +) > 0.5$, which node will belong to class ”+” in the end? Which will belong to class”-”? [4 points]"
   ]
  },
  {
   "cell_type": "code",
   "execution_count": 95,
   "metadata": {},
   "outputs": [
    {
     "name": "stdout",
     "output_type": "stream",
     "text": [
      "Node: 1 ;P=0.86--> +\n",
      "Node: 2 ;P=0.71--> +\n",
      "Node: 3 ;P=1.00--> +\n",
      "Node: 4 ;P=0.29--> -\n",
      "Node: 5 ;P=1.00--> +\n",
      "Node: 6 ;P=0.60--> +\n",
      "Node: 7 ;P=0.14--> -\n",
      "Node: 8 ;P=0.00--> -\n",
      "Node: 9 ;P=0.40--> -\n",
      "Node: 10 ;P=0.00--> -\n"
     ]
    }
   ],
   "source": [
    "P\n",
    "for n, p in zip(nodes, P):\n",
    "    if p > 0.5:\n",
    "        print(f'Node: {n+1} ;P={p:.2f}--> +')\n",
    "    else:\n",
    "        print(f'Node: {n+1} ;P={p:.2f}--> -')"
   ]
  },
  {
   "cell_type": "markdown",
   "metadata": {},
   "source": [
    "### 1.2 Belief Propagation [15 points]\n",
    "* reading: http://helper.ipam.ucla.edu/publications/gss2013/gss2013_11344.pdf"
   ]
  },
  {
   "cell_type": "markdown",
   "metadata": {},
   "source": [
    "In this problem, we will be using Belief Propagation(BP) on Conditional Random Field to solve inference problems. Conditional Random Fields (CRF) are an important special case of Markov Random Fields to model conditional probability distribution. They define a probability distribution p over variables"
   ]
  },
  {
   "cell_type": "markdown",
   "metadata": {},
   "source": [
    "* Message $ m_{ij}(x_{j})$: can be intuitively understood as a message from hidden node $x_{i}$ to hidden node $x_{j}$ about what state node i thinks node j should be in."
   ]
  },
  {
   "cell_type": "markdown",
   "metadata": {},
   "source": [
    "$ m_{ij}(x_{j}) = \\sum_{x_{i}} φ_{i}(x_{i}) ψ_{ij}(x_{i}, x_{j}) \\prod_{k\\in N_{i} / j} m_{ki}(x_{i})$"
   ]
  },
  {
   "cell_type": "markdown",
   "metadata": {},
   "source": [
    "* Belief $ b_{i}(x_{i})$ : $ b_{i}(x_{i}) = \\frac{1}{Z} φ_{i}(x_{i}) \\prod_{j \\in N_{i}} m_{ji}(x_{i})$, where Z denotes the normalizing constant that ensures elements in $b_{i}(x_{i})$ sum to 1"
   ]
  },
  {
   "cell_type": "markdown",
   "metadata": {},
   "source": [
    "##### (i) Consider the network with four hidden nodes shown in Figure 3. Compute the belief at node 1, b 1 (x 1 ), using the belief propagation rules, and write the result in terms of φ’s and ψ’s. [5 points]"
   ]
  },
  {
   "cell_type": "markdown",
   "metadata": {},
   "source": [
    "* $ b_{1}(x_{1})   = \\frac{1}{Z} φ_{1}(x_{1}) m_{21}(x_{1})$\n",
    "* $\\quad\\quad\\quad = \\frac{1}{Z} φ_{1}(x_{1}) m_{21}(x_{1})$\n",
    "* $ m_{21}(x_{1}) = \\sum_{x_{2}} φ_{2}(x_{2}) ψ_{21}(x_{2}, x_{1})  m_{32}(x_{2})  m_{42}(x_{2})$\n",
    "* $ \\quad\\quad\\quad  = \\sum_{x_{2}} φ_{2}(x_{2}) ψ_{21}(x_{2}, x_{1})  \\sum_{x_{3}} φ_{3}(x_{3}) ψ_{32}(x_{3}, x_{2})  \\sum_{x_{4}} φ_{4}(x_{4}) ψ_{42}(x_{4}, x_{2})$\n",
    "* $ \\quad\\quad\\quad  = \\sum_{x_{2}} \\sum_{x_{3}} \\sum_{x_{4}} φ_{2}(x_{2}) φ_{3}(x_{3}) φ_{4}(x_{4}) ψ_{21}(x_{2}, x_{1}) ψ_{32}(x_{3}, x_{2}) ψ_{42}(x_{4}, x_{2})$\n",
    "\n",
    "* $ b_{1}(x_{1}) = \\frac{1}{Z} φ_{1}(x_{1}) \\sum_{x_{2}} \\sum_{x_{3}} \\sum_{x_{4}} φ_{2}(x_{2}) φ_{3}(x_{3}) φ_{4}(x_{4}) ψ_{21}(x_{2}, x_{1}) ψ_{32}(x_{3}, x_{2}) ψ_{42}(x_{4}, x_{2})$"
   ]
  },
  {
   "cell_type": "markdown",
   "metadata": {},
   "source": [
    "#### (ii) Prove that the belief at node 1 calculated above, $b_{1}(x_{1})$, is the same as the marginal probability of x 1 conditioned on the observations, $p(x_{1} |y_{1}, y_{2}, y_{3}, y_{4})$. [2 points],\n",
    "ref: http://helper.ipam.ucla.edu/publications/gss2013/gss2013_11344.pdf"
   ]
  },
  {
   "cell_type": "markdown",
   "metadata": {},
   "source": [
    "* $ b_{1}(x_{1}) = \\frac{1}{Z} φ_{1}(x_{1}) \\sum_{x_{2}} \\sum_{x_{3}} \\sum_{x_{4}} φ_{2}(x_{2}) φ_{3}(x_{3}) φ_{4}(x_{4}) ψ_{21}(x_{2}, x_{1}) ψ_{32}(x_{3}, x_{2}) ψ_{42}(x_{4}, x_{2})$\n",
    "\n",
    "* $ b_{1}(x_{1}) = \\frac{1}{Z} \\sum_{x_{2}} \\sum_{x_{3}} \\sum_{x_{4}} φ_{1}(x_{1})  φ_{2}(x_{2}) φ_{3}(x_{3}) φ_{4}(x_{4}) ψ_{21}(x_{2}, x_{1}) ψ_{32}(x_{3}, x_{2}) ψ_{42}(x_{4}, x_{2})$\n",
    "\n",
    "* $ b_{1}(x_{1}) = \\frac{1}{Z} \\sum_{x_{2}} \\sum_{x_{3}} \\sum_{x_{4}} p(x_{1}, x_{2}, x_{3}, x_{4} |y_{1}, y_{2}, y_{3}, y_{4})$\n",
    "\n",
    "* $ b_{1}(x_{1}) = \\frac{1}{Z} p(x_{1} |y_{1}, y_{2}, y_{3}, y_{4})$"
   ]
  },
  {
   "cell_type": "markdown",
   "metadata": {},
   "source": [
    "#### (iii) Let’s work with a graph without cycles as shown in Figure 4. Assume x and y only have two states (0 and 1) and the graphical model has 5 hidden variables, and two variables observed with y 2 = 0, y 4 = 1. The compatibility matrices are given in the arrays below"
   ]
  },
  {
   "cell_type": "code",
   "execution_count": 217,
   "metadata": {},
   "outputs": [],
   "source": [
    "# States --> {0, 1}\n",
    "y2 = 0\n",
    "y4 = 1\n",
    "\n",
    "psi_1_2 = np.array([[1, 0.9],\n",
    "                    [0.9, 1]])\n",
    "psi_3_4 = psi_1_2\n",
    "psi_2_3 = np.array([[0.1, 1],\n",
    "                    [1, 0.1]])\n",
    "psi_3_5 = psi_2_3\n",
    "\n",
    "phi_2 = np.array([[1, 0.1],\n",
    "                  [0.1, 1]])\n",
    "phi_4 = phi_2"
   ]
  },
  {
   "cell_type": "markdown",
   "metadata": {},
   "source": [
    "$ m_{53}(x_{3}) = \\sum_{x_{5}} φ_{5}(x_{5}) ψ_{53}(x_{5}, x_{3}) $\n",
    "\n",
    "$ m_{43}(x_{3}) = \\sum_{x_{4}} φ_{4}(x_{4}) ψ_{43}(x_{4}, x_{3}) $\n",
    "\n",
    "$ m_{32}(x_{2}) = \\sum_{x_{3}} φ_{3}(x_{3}) ψ_{32}(x_{3}, x_{4})  m_{43}(x_{3})  m_{53}(x_{3})$\n",
    "\n",
    "$ m_{21}(x_{1}) = \\sum_{x_{2}} φ_{2}(x_{2}) ψ_{21}(x_{2}, x_{1})  m_{32}(x_{2})$\n",
    "\n",
    "$ m_{12}(x_{2}) = \\sum_{x_{1}} φ_{1}(x_{1}) ψ_{12}(x_{1}, x_{2})$\n",
    "\n",
    "$ m_{23}(x_{3}) = \\sum_{x_{2}} φ_{2}(x_{2}) ψ_{23}(x_{2}, x_{3})  m_{12}(x_{2})$\n",
    "\n",
    "$ m_{34}(x_{4}) = \\sum_{x_{3}} φ_{3}(x_{3}) ψ_{34}(x_{3}, x_{4})  m_{23}(x_{3})  m_{53}(x_{3})$\n",
    "\n",
    "$ m_{35}(x_{5}) = \\sum_{x_{3}} φ_{3}(x_{3}) ψ_{35}(x_{3}, x_{5})  m_{23}(x_{3})  m_{43}(x_{3})$"
   ]
  },
  {
   "cell_type": "code",
   "execution_count": 276,
   "metadata": {},
   "outputs": [],
   "source": [
    "m53_x3 = np.sum(psi_3_5, axis=0)\n",
    "m43_x3 = np.dot(psi_3_4, phi_4[:, y4])\n",
    "\n",
    "m32_x2 = np.dot(psi_2_3, (m53_x3 * m43_x3).reshape(-1, 1))\n",
    "\n",
    "m21_x1 = np.dot(psi_1_2, phi_2[:,y2].reshape(-1,1) * m32_x2)\n",
    "\n",
    "m12_x2 = np.sum(psi_1_2, axis=0)\n",
    "\n",
    "m23_x3 = np.dot(psi_2_3, phi_2[:,y2] * m12_x2)\n",
    "\n",
    "m34_x4 = np.dot(psi_3_4, m23_x3 * m53_x3)\n",
    "\n",
    "m35_x5 = np.dot(psi_3_5, m23_x3 * m43_x3)"
   ]
  },
  {
   "cell_type": "markdown",
   "metadata": {},
   "source": [
    "$ b_{1}(x_{1}) = \\frac{1}{Z} φ_{1}(x_{1}) m_{21}(x_{1})$\n",
    "\n",
    "$ b_{2}(x_{2}) = \\frac{1}{Z} φ_{2}(x_{2}) m_{12}(x_{2}) m_{32}(x_{2}) $\n",
    "\n",
    "$ b_{3}(x_{3}) = \\frac{1}{Z} φ_{3}(x_{3}) m_{23}(x_{3}) m_{43}(x_{3}) m_{53}(x_{3}) $\n",
    "\n",
    "$ b_{4}(x_{4}) = \\frac{1}{Z} φ_{4}(x_{4}) m_{34}(x_{4})$\n",
    "\n",
    "$ b_{5}(x_{5}) = \\frac{1}{Z} φ_{5}(x_{5}) m_{35}(x_{5})$"
   ]
  },
  {
   "cell_type": "code",
   "execution_count": 293,
   "metadata": {},
   "outputs": [],
   "source": [
    "Z_1 = np.sum(m21_x1)\n",
    "b1_x1 = (1/Z_1) * m21_x1\n",
    "\n",
    "aux = phi_2[:,y2].reshape(-1, 1) * m12_x2.reshape(-1, 1) * m32_x2\n",
    "Z_2 = np.sum(aux)\n",
    "b2_x2 = (1/Z_2) * aux\n",
    "\n",
    "aux = (m23_x3 * m43_x3 * m53_x3).reshape(-1, 1)\n",
    "Z_3 = np.sum(aux)\n",
    "b3_x3 = (1/Z_3) * aux\n",
    "\n",
    "aux = (phi_4[:, y4] * m34_x4).reshape(-1, 1)\n",
    "Z_4 = np.sum(aux)\n",
    "b4_x4 = (1/Z_4) * aux\n",
    "\n",
    "Z_5 = np.sum(m35_x5)\n",
    "b5_x5 = (1/Z_5) * m35_x5.reshape(-1, 1)"
   ]
  },
  {
   "cell_type": "code",
   "execution_count": 306,
   "metadata": {},
   "outputs": [
    {
     "name": "stdout",
     "output_type": "stream",
     "text": [
      "b1(x1) = \n",
      "[[0.52182902]\n",
      " [0.47817098]] \n",
      "\n",
      "b2(x2) = \n",
      "[[0.91475133]\n",
      " [0.08524867]] \n",
      "\n",
      "b3(x3) = \n",
      "[[0.15373972]\n",
      " [0.84626028]] \n",
      "\n",
      "b4(x4) = \n",
      "[[0.08524867]\n",
      " [0.91475133]] \n",
      "\n",
      "b5(x5) = \n",
      "[[0.78330387]\n",
      " [0.21669613]] \n",
      "\n"
     ]
    }
   ],
   "source": [
    "for i, p in enumerate([b1_x1, b2_x2, b3_x3, b4_x4, b5_x5], 1):\n",
    "    print(f'b{i}(x{i}) = ')\n",
    "    print(p, \"\\n\")"
   ]
  },
  {
   "cell_type": "markdown",
   "metadata": {},
   "source": [
    "#### Is the prediction what you expected? [8 points]\n",
    "* x2, x4 are strong biases for being in state 0, 1 (y2, y4)\n",
    "* x1 shows a slight preference for state 0 (influences of x2)\n",
    "* x3 strong biases for being in state 1 (compatibility matrix)(x3 tended to be opposite to x2 and slighty similiar to x4)\n",
    "* x5 biases for being in state 1 (compatibility matrix)(x5 tended to be opposite to x3)"
   ]
  },
  {
   "cell_type": "markdown",
   "metadata": {},
   "source": [
    "# 2 Node Embeddings with TransE [25 points]"
   ]
  },
  {
   "cell_type": "code",
   "execution_count": null,
   "metadata": {},
   "outputs": [],
   "source": []
  }
 ],
 "metadata": {
  "kernelspec": {
   "display_name": "Python 3",
   "language": "python",
   "name": "python3"
  },
  "language_info": {
   "codemirror_mode": {
    "name": "ipython",
    "version": 3
   },
   "file_extension": ".py",
   "mimetype": "text/x-python",
   "name": "python",
   "nbconvert_exporter": "python",
   "pygments_lexer": "ipython3",
   "version": "3.8.5"
  }
 },
 "nbformat": 4,
 "nbformat_minor": 4
}
