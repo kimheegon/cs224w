{
 "cells": [
  {
   "cell_type": "markdown",
   "metadata": {},
   "source": [
    "# Homework 1\n",
    "* Download: http://snap.stanford.edu/data/ca-GrQc.txt.gz"
   ]
  },
  {
   "cell_type": "code",
   "execution_count": 1,
   "metadata": {},
   "outputs": [],
   "source": [
    "import snap\n",
    "import numpy as np\n",
    "import matplotlib.pyplot as plt\n",
    "\n",
    "from collections import defaultdict"
   ]
  },
  {
   "cell_type": "code",
   "execution_count": 2,
   "metadata": {},
   "outputs": [],
   "source": [
    "np.random.seed(2357)"
   ]
  },
  {
   "cell_type": "markdown",
   "metadata": {},
   "source": [
    "# 1) Network Characteristics [25 points]"
   ]
  },
  {
   "cell_type": "markdown",
   "metadata": {},
   "source": [
    "One of the goals of network analysis is to find mathematical models that characterize real-world\n",
    "networks and that can then be used to generate new networks with similar properties. In this\n",
    "problem, we will explore two famous models—Erdős-Rényi and Small World—and compare them\n",
    "to real-world data from an academic collaboration network. Note that in this problem all networks\n",
    "are undirected. You may use the starter code in hw1-q1-starter.py for this problem"
   ]
  },
  {
   "cell_type": "markdown",
   "metadata": {},
   "source": [
    "### Erdős-Rényi Random graph (G(n, m) random network):\n",
    "* Generate a random instance of this model by using n = 5242 nodes and picking m = 14484 edges at random. Write code to construct instances of this model, i.e., do not call a SNAP function."
   ]
  },
  {
   "cell_type": "code",
   "execution_count": 3,
   "metadata": {},
   "outputs": [],
   "source": [
    "def generate_edge(N):\n",
    "    u = np.random.randint(N)\n",
    "    v = np.random.randint(N)\n",
    "    return u, v\n",
    "\n",
    "def genErdosRenyi(N=5242, E=14484):\n",
    "    \"\"\"\n",
    "    :param - N: number of nodes\n",
    "    :param - E: number of edges\n",
    "\n",
    "    return type: snap.PUNGraph\n",
    "    return: Erdos-Renyi graph with N nodes and E edges\n",
    "    \"\"\"\n",
    "    ############################################################################\n",
    "    # TODO: Your code here!\n",
    "    Graph = snap.TUNGraph.New()\n",
    "    \n",
    "    for node_id in range(N):\n",
    "        Graph.AddNode(node_id)\n",
    "    \n",
    "    edges = set()\n",
    "    for _ in range(E):\n",
    "        u, v = generate_edge(N)\n",
    "        while ((u, v) in edges) or ((v, u) in edges) or (u == v):\n",
    "            u, v = generate_edge(N)\n",
    "        edges.add((u, v))\n",
    "        Graph.AddEdge(u, v)\n",
    "\n",
    "    assert (Graph.GetNodes() == N) and (Graph.GetEdges() == E)\n",
    "    ############################################################################\n",
    "    return Graph"
   ]
  },
  {
   "cell_type": "code",
   "execution_count": 4,
   "metadata": {},
   "outputs": [],
   "source": [
    "erdosRenyi = genErdosRenyi(5242, 14484)"
   ]
  },
  {
   "cell_type": "markdown",
   "metadata": {},
   "source": [
    "### Small-World Random Network:"
   ]
  },
  {
   "cell_type": "markdown",
   "metadata": {},
   "source": [
    "* Generate an instance from this model as follows: begin with n = 5242 nodes arranged as a ring, i.e., imagine the nodes form a circle and each node is connected to its two direct neighbors (e.g., node 399 is connected to nodes 398 and 400), giving us 5242 edges. Next, connect each node to the neighbors of its neighbors (e.g., node 399 is also connected to nodes 397 and 401). This gives us another 5242 edges. Finally, randomly select 4000 pairs of nodes not yet connected and add an edge between them. In total, this will make m = 5242 · 2 + 4000 = 14484 edges. Write code to construct instances of this model, i.e., do not call a SNAP function."
   ]
  },
  {
   "cell_type": "code",
   "execution_count": 5,
   "metadata": {},
   "outputs": [],
   "source": [
    "def genCircle(N=5242):\n",
    "    \"\"\"\n",
    "    :param - N: number of nodes\n",
    "\n",
    "    return type: snap.PUNGraph\n",
    "    return: Circle graph with N nodes and N edges. Imagine the nodes form a\n",
    "        circle and each node is connected to its two direct neighbors.\n",
    "    \"\"\"\n",
    "    ############################################################################\n",
    "    # TODO: Your code here!\n",
    "    Graph = snap.TUNGraph.New()\n",
    "    \n",
    "    for node_id in range(N):\n",
    "        Graph.AddNode(node_id)\n",
    "    \n",
    "    for node_id in range(N-1):\n",
    "        Graph.AddEdge(node_id, node_id + 1)\n",
    "    \n",
    "    Graph.AddEdge(N - 1, 0)\n",
    "    \n",
    "    assert (Graph.GetNodes() == N) and (Graph.GetEdges() == N)\n",
    "    ############################################################################\n",
    "    return Graph\n",
    "\n",
    "\n",
    "def connectNbrOfNbr(Graph, N=5242):\n",
    "    \"\"\"\n",
    "    :param - Graph: snap.PUNGraph object representing a circle graph on N nodes\n",
    "    :param - N: number of nodes\n",
    "\n",
    "    return type: snap.PUNGraph\n",
    "    return: Graph object with additional N edges added by connecting each node\n",
    "        to the neighbors of its neighbors\n",
    "    \"\"\"\n",
    "    ############################################################################\n",
    "    # TODO: Your code here!\n",
    "    for node_id in range(N-2):\n",
    "        Graph.AddEdge(node_id, node_id + 2)\n",
    "    Graph.AddEdge(N - 2, 0)\n",
    "    Graph.AddEdge(N - 1, 1)\n",
    "    assert (Graph.GetNodes() == N) and (Graph.GetEdges() == 2*N)\n",
    "    ############################################################################\n",
    "    return Graph\n",
    "\n",
    "\n",
    "def connectRandomNodes(Graph, M=4000):\n",
    "    \"\"\"\n",
    "    :param - Graph: snap.PUNGraph object representing an undirected graph\n",
    "    :param - M: number of edges to be added\n",
    "\n",
    "    return type: snap.PUNGraph\n",
    "    return: Graph object with additional M edges added by connecting M randomly\n",
    "        selected pairs of nodes not already connected.\n",
    "    \"\"\"\n",
    "    ############################################################################\n",
    "    # TODO: Your code here!\n",
    "\n",
    "    N = Graph.GetNodes()\n",
    "    for _ in range(M):\n",
    "        u, v = generate_edge(N)\n",
    "        while (u == v) or Graph.IsEdge(u, v):\n",
    "            u, v = generate_edge(N)\n",
    "        Graph.AddEdge(u, v)\n",
    "    assert (Graph.GetNodes() == N) and (Graph.GetEdges() == 2*N + M)\n",
    "    ############################################################################\n",
    "    return Graph\n",
    "\n",
    "\n",
    "def genSmallWorld(N=5242, E=14484):\n",
    "    \"\"\"\n",
    "    :param - N: number of nodes\n",
    "    :param - E: number of edges\n",
    "\n",
    "    return type: snap.PUNGraph\n",
    "    return: Small-World graph with N nodes and E edges\n",
    "    \"\"\"\n",
    "    Graph = genCircle(N)\n",
    "    Graph = connectNbrOfNbr(Graph, N)\n",
    "    Graph = connectRandomNodes(Graph, 4000)\n",
    "    return Graph"
   ]
  },
  {
   "cell_type": "code",
   "execution_count": 6,
   "metadata": {},
   "outputs": [],
   "source": [
    "smallWorld = genSmallWorld(5242, 14484)"
   ]
  },
  {
   "cell_type": "markdown",
   "metadata": {},
   "source": [
    "### Real-World Collaboration Network:"
   ]
  },
  {
   "cell_type": "markdown",
   "metadata": {},
   "source": [
    "* Download this undirected network from http://snap.stanford.edu/data/ca-GrQc.txt.gz. Nodes in this network represent authors of research papers on the arXiv in the General Relativity and Quantum Cosmology section. There is an edge between two authors if they have co-authored at least one paper together. Note that some edges may appear twice in the data, once for each direction. Ignoring repeats and self-edges, there are 5242 nodes and 14484 edges. (Note: Repeats are automatically ignored when loading an (un)directed graph with SNAP’s LoadEdgeList function)."
   ]
  },
  {
   "cell_type": "code",
   "execution_count": 7,
   "metadata": {},
   "outputs": [],
   "source": [
    "def loadCollabNet(path):\n",
    "    \"\"\"\n",
    "    :param - path: path to edge list file\n",
    "\n",
    "    return type: snap.PUNGraph\n",
    "    return: Graph loaded from edge list at `path and self edges removed\n",
    "\n",
    "    Do not forget to remove the self edges!\n",
    "    \"\"\"\n",
    "    ############################################################################\n",
    "    # TODO: Your code here!\n",
    "    Graph = snap.LoadEdgeList(snap.PUNGraph, path, 0, 1)\n",
    "    \n",
    "    snap.DelSelfEdges(Graph)\n",
    "    \n",
    "    assert (Graph.GetNodes() == 5242) and (Graph.GetEdges() == 14484)\n",
    "    ############################################################################\n",
    "    return Graph"
   ]
  },
  {
   "cell_type": "code",
   "execution_count": 8,
   "metadata": {},
   "outputs": [],
   "source": [
    "collabNet = loadCollabNet(\"ca-GrQc.txt\")"
   ]
  },
  {
   "cell_type": "markdown",
   "metadata": {},
   "source": [
    "## 1.1) Degree Distribution [12 points]"
   ]
  },
  {
   "cell_type": "markdown",
   "metadata": {},
   "source": [
    "Generate a random graph from both the Erdős-Rényi (i.e., G(n, m)) and Small-World models and\n",
    "read in the collaboration network. Delete all of the self-edges in the collaboration network (there\n",
    "should be 14,484 total edges remaining).\n",
    "Plot the degree distribution of all three networks in the same plot on a log-log scale. In other words,\n",
    "generate a plot with the horizontal axis representing node degrees and the vertical axis representing\n",
    "the proportion of nodes with a given degree (by “log-log scale” we mean that both the horizontal\n",
    "and vertical axis must be in logarithmic scale). In one to two sentences, describe one key difference\n",
    "between the degree distribution of the collaboration network and the degree distributions of the\n",
    "random graph models."
   ]
  },
  {
   "cell_type": "code",
   "execution_count": 9,
   "metadata": {},
   "outputs": [],
   "source": [
    "def getDataPointsToPlot(Graph):\n",
    "    \"\"\"\n",
    "    :param - Graph: snap.PUNGraph object representing an undirected graph\n",
    "\n",
    "    return values:\n",
    "    X: list of degrees\n",
    "    Y: list of frequencies: Y[i] = fraction of nodes with degree X[i]\n",
    "    \"\"\"\n",
    "    ############################################################################\n",
    "    # TODO: Your code here!\n",
    "    X, Y = [], []\n",
    "    d = defaultdict(int)\n",
    "    for node in Graph.Nodes():\n",
    "        out_degree = node.GetOutDeg()\n",
    "        d[out_degree] += 1\n",
    "    d = dict(d)\n",
    "    X, Y = zip(*sorted(d.items(), key=lambda x: x[0]))\n",
    "    X, Y = list(X), [y/Graph.GetNodes() for y in Y]\n",
    "    ############################################################################\n",
    "    return X, Y\n",
    "\n",
    "\n",
    "def Q1_1():\n",
    "    \"\"\"\n",
    "    Code for HW1 Q1.1\n",
    "    \"\"\"\n",
    "    erdosRenyi = genErdosRenyi(5242, 14484)\n",
    "    smallWorld = genSmallWorld(5242, 14484)\n",
    "    collabNet = loadCollabNet(\"ca-GrQc.txt\")\n",
    "\n",
    "    x_erdosRenyi, y_erdosRenyi = getDataPointsToPlot(erdosRenyi)\n",
    "    plt.loglog(x_erdosRenyi, y_erdosRenyi, color='y', label='Erdos Renyi Network')\n",
    "\n",
    "    x_smallWorld, y_smallWorld = getDataPointsToPlot(smallWorld)\n",
    "    plt.loglog(x_smallWorld, y_smallWorld, linestyle='dashed', color='r', label='Small World Network')\n",
    "\n",
    "    x_collabNet, y_collabNet = getDataPointsToPlot(collabNet)\n",
    "    plt.loglog(x_collabNet, y_collabNet, linestyle='dotted', color='b', label='Collaboration Network')\n",
    "\n",
    "    plt.xlabel('Node Degree (log)')\n",
    "    plt.ylabel('Proportion of Nodes with a Given Degree (log)')\n",
    "    plt.title('Degree Distribution of Erdos Renyi, Small World, and Collaboration Networks')\n",
    "    plt.legend()\n",
    "    plt.show()"
   ]
  },
  {
   "cell_type": "code",
   "execution_count": 10,
   "metadata": {},
   "outputs": [
    {
     "data": {
      "image/png": "[encoded data removed]",
      "text/plain": [
       "<Figure size 432x288 with 1 Axes>"
      ]
     },
     "metadata": {
      "needs_background": "light"
     },
     "output_type": "display_data"
    }
   ],
   "source": [
    "Q1_1()"
   ]
  },
  {
   "cell_type": "raw",
   "metadata": {},
   "source": [
    "Degree distribution differs from that of real networks. Real Networks are not random."
   ]
  },
  {
   "cell_type": "markdown",
   "metadata": {},
   "source": [
    "## 1.2) Clustering Coefficient [13 points]"
   ]
  },
  {
   "cell_type": "markdown",
   "metadata": {},
   "source": [
    "Compute and report the average clustering coefficient of the three networks. For this question,\n",
    "write your own implementation to compute the clustering coefficient, instead of using a built-in\n",
    "SNAP function.\n",
    "Which network has the largest clustering coefficient? In one to two sentences, explain. Think about\n",
    "the underlying process that generated the network."
   ]
  },
  {
   "cell_type": "code",
   "execution_count": 11,
   "metadata": {},
   "outputs": [
    {
     "name": "stdout",
     "output_type": "stream",
     "text": [
      "Clustering Coefficient for Erdos Renyi Network: 0.001608\n",
      "Clustering Coefficient for Small World Network: 0.283923\n",
      "Clustering Coefficient for Collaboration Network: 0.529636\n"
     ]
    }
   ],
   "source": [
    "def calcClusteringCoefficientSingleNode(Node, Graph):\n",
    "    \"\"\"\n",
    "    :param - Node: node from snap.PUNGraph object. Graph.Nodes() will give an\n",
    "                   iterable of nodes in a graph\n",
    "    :param - Graph: snap.PUNGraph object representing an undirected graph\n",
    "\n",
    "    return type: float\n",
    "    returns: local clustering coeffient of Node\n",
    "    \"\"\"\n",
    "    ############################################################################\n",
    "    # TODO: Your code here!\n",
    "    C = 0.0\n",
    "    k = Node.GetDeg()\n",
    "    if k >= 2:\n",
    "        e = 0\n",
    "        for i in range(k):\n",
    "            for j in range(i, k):\n",
    "                u = Node.GetNbrNId(i)  # Returns ID of NodeN-th neighboring node \n",
    "                v = Node.GetNbrNId(j)\n",
    "                if Graph.IsEdge(u, v):\n",
    "                    e += 1\n",
    "        C = 2*e / (k*(k-1))\n",
    "    ############################################################################\n",
    "    return C\n",
    "\n",
    "def calcClusteringCoefficient(Graph):\n",
    "    \"\"\"\n",
    "    :param - Graph: snap.PUNGraph object representing an undirected graph\n",
    "\n",
    "    return type: float\n",
    "    returns: clustering coeffient of Graph\n",
    "    \"\"\"\n",
    "    ############################################################################\n",
    "    # TODO: Your code here! If you filled out calcClusteringCoefficientSingleNode,\n",
    "    #       you'll probably want to call it in a loop here\n",
    "    C = 0.0\n",
    "    for node in Graph.Nodes():\n",
    "        C += calcClusteringCoefficientSingleNode(node, Graph)\n",
    "    C /= Graph.GetNodes()\n",
    "    ############################################################################\n",
    "    return C\n",
    "\n",
    "def Q1_2():\n",
    "    \"\"\"\n",
    "    Code for Q1.2\n",
    "    \"\"\"\n",
    "    C_erdosRenyi = calcClusteringCoefficient(erdosRenyi)\n",
    "    C_smallWorld = calcClusteringCoefficient(smallWorld)\n",
    "    C_collabNet = calcClusteringCoefficient(collabNet)\n",
    "\n",
    "    print('Clustering Coefficient for Erdos Renyi Network: %f' % C_erdosRenyi)\n",
    "    print('Clustering Coefficient for Small World Network: %f' % C_smallWorld)\n",
    "    print('Clustering Coefficient for Collaboration Network: %f' % C_collabNet)\n",
    "\n",
    "\n",
    "# Execute code for Q1.2\n",
    "Q1_2()"
   ]
  },
  {
   "cell_type": "raw",
   "metadata": {},
   "source": [
    "In Erdos Renyi Network there is not a local structure – clustering coefficient is too low\n",
    "In Collaboration Network there is a local structure – clustering coefficient is high"
   ]
  },
  {
   "cell_type": "markdown",
   "metadata": {},
   "source": [
    "# 4) Structural Roles: Rolx and ReFex [25 points]"
   ]
  },
  {
   "cell_type": "code",
   "execution_count": null,
   "metadata": {},
   "outputs": [],
   "source": []
  },
  {
   "cell_type": "code",
   "execution_count": null,
   "metadata": {},
   "outputs": [],
   "source": []
  }
 ],
 "metadata": {
  "kernelspec": {
   "display_name": "Python 3",
   "language": "python",
   "name": "python3"
  },
  "language_info": {
   "codemirror_mode": {
    "name": "ipython",
    "version": 3
   },
   "file_extension": ".py",
   "mimetype": "text/x-python",
   "name": "python",
   "nbconvert_exporter": "python",
   "pygments_lexer": "ipython3",
   "version": "3.8.5"
  }
 },
 "nbformat": 4,
 "nbformat_minor": 4
}
