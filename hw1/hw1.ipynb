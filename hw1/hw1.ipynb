{
 "cells": [
  {
   "cell_type": "markdown",
   "metadata": {},
   "source": [
    "# Homework 1\n",
    "* Download:\n",
    " * http://snap.stanford.edu/data/ca-GrQc.txt.gz\n",
    " * http://www-personal.umich.edu/~mejn/netdata/netscience.zip"
   ]
  },
  {
   "cell_type": "code",
   "execution_count": 415,
   "metadata": {},
   "outputs": [],
   "source": [
    "import snap\n",
    "import numpy as np\n",
    "import matplotlib.pyplot as plt\n",
    "import networkx as nx\n",
    "\n",
    "from collections import defaultdict\n",
    "from itertools import combinations"
   ]
  },
  {
   "cell_type": "code",
   "execution_count": 2,
   "metadata": {},
   "outputs": [],
   "source": [
    "np.random.seed(2357)"
   ]
  },
  {
   "cell_type": "markdown",
   "metadata": {},
   "source": [
    "# 1) Network Characteristics [25 points]"
   ]
  },
  {
   "cell_type": "markdown",
   "metadata": {},
   "source": [
    "One of the goals of network analysis is to find mathematical models that characterize real-world\n",
    "networks and that can then be used to generate new networks with similar properties. In this\n",
    "problem, we will explore two famous models—Erdős-Rényi and Small World—and compare them\n",
    "to real-world data from an academic collaboration network. Note that in this problem all networks\n",
    "are undirected. You may use the starter code in hw1-q1-starter.py for this problem"
   ]
  },
  {
   "cell_type": "markdown",
   "metadata": {},
   "source": [
    "### Erdős-Rényi Random graph (G(n, m) random network):\n",
    "* Generate a random instance of this model by using n = 5242 nodes and picking m = 14484 edges at random. Write code to construct instances of this model, i.e., do not call a SNAP function."
   ]
  },
  {
   "cell_type": "code",
   "execution_count": 3,
   "metadata": {},
   "outputs": [],
   "source": [
    "def generate_edge(N):\n",
    "    u = np.random.randint(N)\n",
    "    v = np.random.randint(N)\n",
    "    return u, v\n",
    "\n",
    "def genErdosRenyi(N=5242, E=14484):\n",
    "    \"\"\"\n",
    "    :param - N: number of nodes\n",
    "    :param - E: number of edges\n",
    "\n",
    "    return type: snap.PUNGraph\n",
    "    return: Erdos-Renyi graph with N nodes and E edges\n",
    "    \"\"\"\n",
    "    ############################################################################\n",
    "    # TODO: Your code here!\n",
    "    Graph = snap.TUNGraph.New()\n",
    "    \n",
    "    for node_id in range(N):\n",
    "        Graph.AddNode(node_id)\n",
    "    \n",
    "    edges = set()\n",
    "    for _ in range(E):\n",
    "        u, v = generate_edge(N)\n",
    "        while ((u, v) in edges) or ((v, u) in edges) or (u == v):\n",
    "            u, v = generate_edge(N)\n",
    "        edges.add((u, v))\n",
    "        Graph.AddEdge(u, v)\n",
    "\n",
    "    assert (Graph.GetNodes() == N) and (Graph.GetEdges() == E)\n",
    "    ############################################################################\n",
    "    return Graph"
   ]
  },
  {
   "cell_type": "code",
   "execution_count": 4,
   "metadata": {},
   "outputs": [],
   "source": [
    "erdosRenyi = genErdosRenyi(5242, 14484)"
   ]
  },
  {
   "cell_type": "markdown",
   "metadata": {},
   "source": [
    "### Small-World Random Network:"
   ]
  },
  {
   "cell_type": "markdown",
   "metadata": {},
   "source": [
    "* Generate an instance from this model as follows: begin with n = 5242 nodes arranged as a ring, i.e., imagine the nodes form a circle and each node is connected to its two direct neighbors (e.g., node 399 is connected to nodes 398 and 400), giving us 5242 edges. Next, connect each node to the neighbors of its neighbors (e.g., node 399 is also connected to nodes 397 and 401). This gives us another 5242 edges. Finally, randomly select 4000 pairs of nodes not yet connected and add an edge between them. In total, this will make m = 5242 · 2 + 4000 = 14484 edges. Write code to construct instances of this model, i.e., do not call a SNAP function."
   ]
  },
  {
   "cell_type": "code",
   "execution_count": 5,
   "metadata": {},
   "outputs": [],
   "source": [
    "def genCircle(N=5242):\n",
    "    \"\"\"\n",
    "    :param - N: number of nodes\n",
    "\n",
    "    return type: snap.PUNGraph\n",
    "    return: Circle graph with N nodes and N edges. Imagine the nodes form a\n",
    "        circle and each node is connected to its two direct neighbors.\n",
    "    \"\"\"\n",
    "    ############################################################################\n",
    "    # TODO: Your code here!\n",
    "    Graph = snap.TUNGraph.New()\n",
    "    \n",
    "    for node_id in range(N):\n",
    "        Graph.AddNode(node_id)\n",
    "    \n",
    "    for node_id in range(N-1):\n",
    "        Graph.AddEdge(node_id, node_id + 1)\n",
    "    \n",
    "    Graph.AddEdge(N - 1, 0)\n",
    "    \n",
    "    assert (Graph.GetNodes() == N) and (Graph.GetEdges() == N)\n",
    "    ############################################################################\n",
    "    return Graph\n",
    "\n",
    "\n",
    "def connectNbrOfNbr(Graph, N=5242):\n",
    "    \"\"\"\n",
    "    :param - Graph: snap.PUNGraph object representing a circle graph on N nodes\n",
    "    :param - N: number of nodes\n",
    "\n",
    "    return type: snap.PUNGraph\n",
    "    return: Graph object with additional N edges added by connecting each node\n",
    "        to the neighbors of its neighbors\n",
    "    \"\"\"\n",
    "    ############################################################################\n",
    "    # TODO: Your code here!\n",
    "    for node_id in range(N-2):\n",
    "        Graph.AddEdge(node_id, node_id + 2)\n",
    "    Graph.AddEdge(N - 2, 0)\n",
    "    Graph.AddEdge(N - 1, 1)\n",
    "    assert (Graph.GetNodes() == N) and (Graph.GetEdges() == 2*N)\n",
    "    ############################################################################\n",
    "    return Graph\n",
    "\n",
    "\n",
    "def connectRandomNodes(Graph, M=4000):\n",
    "    \"\"\"\n",
    "    :param - Graph: snap.PUNGraph object representing an undirected graph\n",
    "    :param - M: number of edges to be added\n",
    "\n",
    "    return type: snap.PUNGraph\n",
    "    return: Graph object with additional M edges added by connecting M randomly\n",
    "        selected pairs of nodes not already connected.\n",
    "    \"\"\"\n",
    "    ############################################################################\n",
    "    # TODO: Your code here!\n",
    "\n",
    "    N = Graph.GetNodes()\n",
    "    for _ in range(M):\n",
    "        u, v = generate_edge(N)\n",
    "        while (u == v) or Graph.IsEdge(u, v):\n",
    "            u, v = generate_edge(N)\n",
    "        Graph.AddEdge(u, v)\n",
    "    assert (Graph.GetNodes() == N) and (Graph.GetEdges() == 2*N + M)\n",
    "    ############################################################################\n",
    "    return Graph\n",
    "\n",
    "\n",
    "def genSmallWorld(N=5242, E=14484):\n",
    "    \"\"\"\n",
    "    :param - N: number of nodes\n",
    "    :param - E: number of edges\n",
    "\n",
    "    return type: snap.PUNGraph\n",
    "    return: Small-World graph with N nodes and E edges\n",
    "    \"\"\"\n",
    "    Graph = genCircle(N)\n",
    "    Graph = connectNbrOfNbr(Graph, N)\n",
    "    Graph = connectRandomNodes(Graph, 4000)\n",
    "    return Graph"
   ]
  },
  {
   "cell_type": "code",
   "execution_count": 6,
   "metadata": {},
   "outputs": [],
   "source": [
    "smallWorld = genSmallWorld(5242, 14484)"
   ]
  },
  {
   "cell_type": "markdown",
   "metadata": {},
   "source": [
    "### Real-World Collaboration Network:"
   ]
  },
  {
   "cell_type": "markdown",
   "metadata": {},
   "source": [
    "* Download this undirected network from http://snap.stanford.edu/data/ca-GrQc.txt.gz. Nodes in this network represent authors of research papers on the arXiv in the General Relativity and Quantum Cosmology section. There is an edge between two authors if they have co-authored at least one paper together. Note that some edges may appear twice in the data, once for each direction. Ignoring repeats and self-edges, there are 5242 nodes and 14484 edges. (Note: Repeats are automatically ignored when loading an (un)directed graph with SNAP’s LoadEdgeList function)."
   ]
  },
  {
   "cell_type": "code",
   "execution_count": 7,
   "metadata": {},
   "outputs": [],
   "source": [
    "def loadCollabNet(path):\n",
    "    \"\"\"\n",
    "    :param - path: path to edge list file\n",
    "\n",
    "    return type: snap.PUNGraph\n",
    "    return: Graph loaded from edge list at `path and self edges removed\n",
    "\n",
    "    Do not forget to remove the self edges!\n",
    "    \"\"\"\n",
    "    ############################################################################\n",
    "    # TODO: Your code here!\n",
    "    Graph = snap.LoadEdgeList(snap.PUNGraph, path, 0, 1)\n",
    "    \n",
    "    snap.DelSelfEdges(Graph)\n",
    "    \n",
    "    assert (Graph.GetNodes() == 5242) and (Graph.GetEdges() == 14484)\n",
    "    ############################################################################\n",
    "    return Graph"
   ]
  },
  {
   "cell_type": "code",
   "execution_count": 8,
   "metadata": {},
   "outputs": [],
   "source": [
    "collabNet = loadCollabNet(\"ca-GrQc.txt\")"
   ]
  },
  {
   "cell_type": "markdown",
   "metadata": {},
   "source": [
    "## 1.1) Degree Distribution [12 points]"
   ]
  },
  {
   "cell_type": "markdown",
   "metadata": {},
   "source": [
    "Generate a random graph from both the Erdős-Rényi (i.e., G(n, m)) and Small-World models and\n",
    "read in the collaboration network. Delete all of the self-edges in the collaboration network (there\n",
    "should be 14,484 total edges remaining).\n",
    "Plot the degree distribution of all three networks in the same plot on a log-log scale. In other words,\n",
    "generate a plot with the horizontal axis representing node degrees and the vertical axis representing\n",
    "the proportion of nodes with a given degree (by “log-log scale” we mean that both the horizontal\n",
    "and vertical axis must be in logarithmic scale). In one to two sentences, describe one key difference\n",
    "between the degree distribution of the collaboration network and the degree distributions of the\n",
    "random graph models."
   ]
  },
  {
   "cell_type": "code",
   "execution_count": 9,
   "metadata": {},
   "outputs": [],
   "source": [
    "def getDataPointsToPlot(Graph):\n",
    "    \"\"\"\n",
    "    :param - Graph: snap.PUNGraph object representing an undirected graph\n",
    "\n",
    "    return values:\n",
    "    X: list of degrees\n",
    "    Y: list of frequencies: Y[i] = fraction of nodes with degree X[i]\n",
    "    \"\"\"\n",
    "    ############################################################################\n",
    "    # TODO: Your code here!\n",
    "    X, Y = [], []\n",
    "    d = defaultdict(int)\n",
    "    for node in Graph.Nodes():\n",
    "        out_degree = node.GetOutDeg()\n",
    "        d[out_degree] += 1\n",
    "    d = dict(d)\n",
    "    X, Y = zip(*sorted(d.items(), key=lambda x: x[0]))\n",
    "    X, Y = list(X), [y/Graph.GetNodes() for y in Y]\n",
    "    ############################################################################\n",
    "    return X, Y\n",
    "\n",
    "\n",
    "def Q1_1():\n",
    "    \"\"\"\n",
    "    Code for HW1 Q1.1\n",
    "    \"\"\"\n",
    "    erdosRenyi = genErdosRenyi(5242, 14484)\n",
    "    smallWorld = genSmallWorld(5242, 14484)\n",
    "    collabNet = loadCollabNet(\"ca-GrQc.txt\")\n",
    "\n",
    "    x_erdosRenyi, y_erdosRenyi = getDataPointsToPlot(erdosRenyi)\n",
    "    plt.loglog(x_erdosRenyi, y_erdosRenyi, color='y', label='Erdos Renyi Network')\n",
    "\n",
    "    x_smallWorld, y_smallWorld = getDataPointsToPlot(smallWorld)\n",
    "    plt.loglog(x_smallWorld, y_smallWorld, linestyle='dashed', color='r', label='Small World Network')\n",
    "\n",
    "    x_collabNet, y_collabNet = getDataPointsToPlot(collabNet)\n",
    "    plt.loglog(x_collabNet, y_collabNet, linestyle='dotted', color='b', label='Collaboration Network')\n",
    "\n",
    "    plt.xlabel('Node Degree (log)')\n",
    "    plt.ylabel('Proportion of Nodes with a Given Degree (log)')\n",
    "    plt.title('Degree Distribution of Erdos Renyi, Small World, and Collaboration Networks')\n",
    "    plt.legend()\n",
    "    plt.show()"
   ]
  },
  {
   "cell_type": "code",
   "execution_count": 10,
   "metadata": {},
   "outputs": [
    {
     "data": {
      "image/png": "[encoded data removed]",
      "text/plain": [
       "<Figure size 432x288 with 1 Axes>"
      ]
     },
     "metadata": {
      "needs_background": "light"
     },
     "output_type": "display_data"
    }
   ],
   "source": [
    "Q1_1()"
   ]
  },
  {
   "cell_type": "raw",
   "metadata": {},
   "source": [
    "Degree distribution differs from that of real networks. Real Networks are not random."
   ]
  },
  {
   "cell_type": "markdown",
   "metadata": {},
   "source": [
    "## 1.2) Clustering Coefficient [13 points]"
   ]
  },
  {
   "cell_type": "markdown",
   "metadata": {},
   "source": [
    "Compute and report the average clustering coefficient of the three networks. For this question,\n",
    "write your own implementation to compute the clustering coefficient, instead of using a built-in\n",
    "SNAP function.\n",
    "Which network has the largest clustering coefficient? In one to two sentences, explain. Think about\n",
    "the underlying process that generated the network."
   ]
  },
  {
   "cell_type": "code",
   "execution_count": 11,
   "metadata": {},
   "outputs": [
    {
     "name": "stdout",
     "output_type": "stream",
     "text": [
      "Clustering Coefficient for Erdos Renyi Network: 0.001608\n",
      "Clustering Coefficient for Small World Network: 0.283923\n",
      "Clustering Coefficient for Collaboration Network: 0.529636\n"
     ]
    }
   ],
   "source": [
    "def calcClusteringCoefficientSingleNode(Node, Graph):\n",
    "    \"\"\"\n",
    "    :param - Node: node from snap.PUNGraph object. Graph.Nodes() will give an\n",
    "                   iterable of nodes in a graph\n",
    "    :param - Graph: snap.PUNGraph object representing an undirected graph\n",
    "\n",
    "    return type: float\n",
    "    returns: local clustering coeffient of Node\n",
    "    \"\"\"\n",
    "    ############################################################################\n",
    "    # TODO: Your code here!\n",
    "    C = 0.0\n",
    "    k = Node.GetDeg()\n",
    "    if k >= 2:\n",
    "        e = 0\n",
    "        for i in range(k):\n",
    "            for j in range(i, k):\n",
    "                u = Node.GetNbrNId(i)  # Returns ID of NodeN-th neighboring node \n",
    "                v = Node.GetNbrNId(j)\n",
    "                if Graph.IsEdge(u, v):\n",
    "                    e += 1\n",
    "        C = 2*e / (k*(k-1))\n",
    "    ############################################################################\n",
    "    return C\n",
    "\n",
    "def calcClusteringCoefficient(Graph):\n",
    "    \"\"\"\n",
    "    :param - Graph: snap.PUNGraph object representing an undirected graph\n",
    "\n",
    "    return type: float\n",
    "    returns: clustering coeffient of Graph\n",
    "    \"\"\"\n",
    "    ############################################################################\n",
    "    # TODO: Your code here! If you filled out calcClusteringCoefficientSingleNode,\n",
    "    #       you'll probably want to call it in a loop here\n",
    "    C = 0.0\n",
    "    for node in Graph.Nodes():\n",
    "        C += calcClusteringCoefficientSingleNode(node, Graph)\n",
    "    C /= Graph.GetNodes()\n",
    "    ############################################################################\n",
    "    return C\n",
    "\n",
    "def Q1_2():\n",
    "    \"\"\"\n",
    "    Code for Q1.2\n",
    "    \"\"\"\n",
    "    C_erdosRenyi = calcClusteringCoefficient(erdosRenyi)\n",
    "    C_smallWorld = calcClusteringCoefficient(smallWorld)\n",
    "    C_collabNet = calcClusteringCoefficient(collabNet)\n",
    "\n",
    "    print('Clustering Coefficient for Erdos Renyi Network: %f' % C_erdosRenyi)\n",
    "    print('Clustering Coefficient for Small World Network: %f' % C_smallWorld)\n",
    "    print('Clustering Coefficient for Collaboration Network: %f' % C_collabNet)\n",
    "\n",
    "\n",
    "# Execute code for Q1.2\n",
    "Q1_2()"
   ]
  },
  {
   "cell_type": "raw",
   "metadata": {},
   "source": [
    "In Erdos Renyi Network there is not a local structure – clustering coefficient is too low\n",
    "In Collaboration Network there is a local structure – clustering coefficient is high"
   ]
  },
  {
   "cell_type": "markdown",
   "metadata": {},
   "source": [
    "# 2) Structural Roles: Rolx and ReFex [25 points]"
   ]
  },
  {
   "cell_type": "markdown",
   "metadata": {},
   "source": [
    "In this problem, we will explore the structural role extraction algorithm Rolx and its recursive feature extraction method ReFex. As part of this exploration, we will work with a dataset rep-resenting a scientist co-authorship network, which can be dowloaded at http://www-personal.umich.edu/~mejn/netdata/netscience.zip. 1 Although the graph is weighted, for simplicity we treat it as undirected and unweighted in this problem.\n",
    "\n",
    "Feature extraction consists of two steps; we first extract basic local features from every node, and we subsequently aggregate them along graph edges so that global features are also obtained. Collectively, feature extraction constructs a matrix V ∈ R n×f where for each of the n nodes we have f features to cover local and global information. Rolx extracts node roles from that matrix."
   ]
  },
  {
   "cell_type": "code",
   "execution_count": 13,
   "metadata": {},
   "outputs": [],
   "source": [
    "G = snap.TUNGraph.Load(snap.TFIn(\"hw1-q2.graph\"))"
   ]
  },
  {
   "cell_type": "markdown",
   "metadata": {},
   "source": [
    "## 2.1) Basic Features [5 points]"
   ]
  },
  {
   "cell_type": "code",
   "execution_count": 393,
   "metadata": {},
   "outputs": [],
   "source": [
    "def cos_sim(x, y):\n",
    "    dot_p = np.dot(x, y)\n",
    "    x_norm = np.linalg.norm(x)  # l-2 norm\n",
    "    y_norm = np.linalg.norm(y)\n",
    "    if (x_norm == 0) or (y_norm == 0):\n",
    "        return 0\n",
    "    return dot_p / (x_norm * y_norm)\n",
    "\n",
    "\n",
    "def getNodeSimilars(node_id, id2vec, top=-1, identity=False):\n",
    "    node_vec = id2vec[node_id, :]\n",
    "    if identity:\n",
    "        sim_score = np.array([\n",
    "            cos_sim(node_vec, vec) for vec in id2vec\n",
    "        ])\n",
    "    else:\n",
    "        sim_score = np.array([\n",
    "            cos_sim(node_vec, vec) if i != node_id else -1 for i, vec in enumerate(id2vec)\n",
    "        ])\n",
    "    sim_nodes = np.argsort(sim_score)[::-1]\n",
    "    if top > 0:\n",
    "        sim_nodes = sim_nodes[:top]\n",
    "    \n",
    "    return sim_nodes, sim_score[sim_nodes]\n",
    "\n",
    "def nodeDegree(Node, Graph):\n",
    "    \"\"\"the degree of v, i.e., deg(v)\"\"\"\n",
    "    return Node.GetDeg()\n",
    "\n",
    "def getEgoNetNodes(Node):\n",
    "    nodes = set({Node.GetId()})\n",
    "    k = Node.GetDeg()\n",
    "    for i in range(k):\n",
    "        nodes.add(Node.GetNbrNId(i))\n",
    "    return nodes\n",
    "\n",
    "def nodeEgoNetNbEdges(Node, Graph):\n",
    "    \"\"\"the number of edges in the egonet of v,\n",
    "       where egonet of v is defined as the subgraph of G induced by v and its neighborhood\n",
    "    \"\"\"\n",
    "    nodes = getEgoNetNodes(Node)\n",
    "\n",
    "    nb_edges = 0\n",
    "    for node_i, node_j in combinations(nodes, 2):\n",
    "        if G.IsEdge(node_i, node_j):\n",
    "            nb_edges += 1\n",
    "    return nb_edges\n",
    "\n",
    "def nodeEgoNetOutNbEdges(Node, Graph):\n",
    "    \"\"\"the number of edges that connect the egonet of v and the rest of the graph,\n",
    "       i.e., the number of edges that enter or leave the egonet of v.\n",
    "    \"\"\"\n",
    "    nodes = getEgoNetNodes(Node)\n",
    "\n",
    "    nb_edges_out = 0\n",
    "    for node in nodes:\n",
    "        Node = Graph.GetNI(node)\n",
    "        for nn in Node.GetOutEdges():\n",
    "            if nn not in nodes:\n",
    "                nb_edges_out += 1\n",
    "    return nb_edges_out\n",
    "\n",
    "def compute_features(Graph):\n",
    "    id2vec = {}\n",
    "\n",
    "    for Node in G.Nodes():\n",
    "        deg_feat = nodeDegree(Node, G)\n",
    "        ergonet_edges_feat = nodeEgoNetNbEdges(Node, G)\n",
    "        ergonet_out_feat = nodeEgoNetOutNbEdges(Node, G)\n",
    "        id2vec[Node.GetId()] = np.array([deg_feat, ergonet_edges_feat, ergonet_out_feat])\n",
    "    \n",
    "    assert (id2vec[9] <= 10).all()\n",
    "    feats = np.array([id2vec[i] for i in id2vec])\n",
    "    assert (feats[9,:] <= 10).all()\n",
    "    return feats\n",
    "\n",
    "\n",
    "def Q2_1():\n",
    "    feats = compute_features(G)\n",
    "    sim_nodes, sim_score = getNodeSimilars(9, feats, top=5)\n",
    "    print(f'Feat Node 9: {feats[9]}\\nClosest nodes: {sim_nodes} \\nScore: {sim_score}')"
   ]
  },
  {
   "cell_type": "code",
   "execution_count": 394,
   "metadata": {},
   "outputs": [
    {
     "name": "stdout",
     "output_type": "stream",
     "text": [
      "Feat Node 9: [ 6 10  1]\n",
      "Closest nodes: [ 415  286  288 1336 1054] \n",
      "Score: [0.99961575 0.99634368 0.99634368 0.99611824 0.99611824]\n"
     ]
    }
   ],
   "source": [
    "Q2_1()"
   ]
  },
  {
   "cell_type": "markdown",
   "metadata": {},
   "source": [
    "## 2.2) Recursive Features [8 points]"
   ]
  },
  {
   "cell_type": "markdown",
   "metadata": {},
   "source": [
    "In this next step, we recursively generate some more features. We use mean and sum as aggregation\n",
    "functions. Initially, we have a feature vector Ṽ u ∈ R 3 for every node u. In the first iteration, we concatenate\n",
    "the mean of all u’s neighbors’ feature vectors to Ṽ u , and do the same for sum, i.e.,"
   ]
  },
  {
   "cell_type": "code",
   "execution_count": 395,
   "metadata": {},
   "outputs": [],
   "source": [
    "def get_nn(Node):\n",
    "    nodes = set()\n",
    "    k = Node.GetDeg()\n",
    "    for i in range(k):\n",
    "        nodes.add(Node.GetNbrNId(i))\n",
    "    return list(nodes)\n",
    "\n",
    "def recursive_features(Graph, k=2):\n",
    "    V = compute_features(Graph)\n",
    "    for _ in range(k):\n",
    "        nb_feat = V.shape[1]\n",
    "        V1 = np.zeros((Graph.GetNodes(), nb_feat * 3))\n",
    "        V1[:, :nb_feat] = V.copy()\n",
    "        for Node in Graph.Nodes():\n",
    "            neighbors = get_nn(Node)\n",
    "            if neighbors != []:\n",
    "                node_id = Node.GetId()\n",
    "                nn_feats = V[neighbors, :]\n",
    "                mean_feat = np.mean(nn_feats, axis=0)\n",
    "                sum_feat = np.sum(nn_feats, axis=0)\n",
    "                V1[node_id, nb_feat:] = np.concatenate([mean_feat, sum_feat])\n",
    "        V = V1.copy()\n",
    "    return V\n",
    "\n",
    "def Q2_2():\n",
    "    feats = recursive_features(G, k=2)\n",
    "    sim_nodes, sim_score = getNodeSimilars(9, feats, top=5)\n",
    "    print(f'Feat Node 9: {feats[9]}\\n\\nClosest nodes: {sim_nodes} \\n\\nScore: {sim_score}')"
   ]
  },
  {
   "cell_type": "code",
   "execution_count": 396,
   "metadata": {},
   "outputs": [
    {
     "name": "stdout",
     "output_type": "stream",
     "text": [
      "Feat Node 9: [  6.          10.           1.           2.5          4.33333333\n",
      "   4.          15.          26.          24.           2.5\n",
      "   4.33333333   4.           4.31944444   7.34722222   2.38888889\n",
      "  10.16666667  17.5          6.5         15.          26.\n",
      "  24.          25.91666667  44.08333333  14.33333333  61.\n",
      " 105.          39.        ]\n",
      "\n",
      "Closest nodes: [973 537 415 496  24] \n",
      "\n",
      "Score: [0.99598488 0.994613   0.99372844 0.99228397 0.99224132]\n"
     ]
    }
   ],
   "source": [
    "Q2_2()"
   ]
  },
  {
   "cell_type": "markdown",
   "metadata": {},
   "source": [
    "* There is one common node: 415\n",
    "* Nodes changes because of the aggregations, in each iteration we know information about one path step forward."
   ]
  },
  {
   "cell_type": "markdown",
   "metadata": {},
   "source": [
    "## 2.3) Role Discovery [12 points]"
   ]
  },
  {
   "cell_type": "markdown",
   "metadata": {},
   "source": [
    "In this part, we explore more about the graph according to the recursive feature vectors of nodes and node similarity.\n",
    "\n",
    "(a) Produce a 20-bin histogram to show the distribution of cosine similarity between node 9 and any other node in the graph (according to their recursive feature vectors). Note here that the x-axis is cosine similarity with node 9, and the y-axis is the number of nodes. [3 points]\n",
    "\n",
    "According to the histogram, can you spot some groups / roles? How many can you spot? (Clue:\n",
    "look for the spikes! ) [2 points]"
   ]
  },
  {
   "cell_type": "code",
   "execution_count": 397,
   "metadata": {},
   "outputs": [],
   "source": [
    "feats = recursive_features(G, k=2)\n",
    "sim_nodes, sim_score = getNodeSimilars(9, feats, identity=True)"
   ]
  },
  {
   "cell_type": "code",
   "execution_count": 400,
   "metadata": {},
   "outputs": [
    {
     "data": {
      "image/png": "[encoded data removed]",
      "text/plain": [
       "<Figure size 1440x720 with 1 Axes>"
      ]
     },
     "metadata": {
      "needs_background": "light"
     },
     "output_type": "display_data"
    }
   ],
   "source": [
    "fig = plt.figure(figsize=[20, 10])\n",
    "fig = plt.hist(sim_score, bins=20)"
   ]
  },
  {
   "cell_type": "markdown",
   "metadata": {},
   "source": [
    "According to the histogram, can you spot some groups / roles? How many can you spot? (Clue:\n",
    "look for the spikes! ) [2 points]\n",
    "\n",
    "* We can see 5 groups of nodes based on node 9 similarity"
   ]
  },
  {
   "cell_type": "markdown",
   "metadata": {},
   "source": [
    "(b) For these groups / roles in the cosine similarity histogram, take one node u from each group to\n",
    "examine the feature vector, and draw the subgraph of the node based on its feature vector. You\n",
    "can draw the subgraph by hand, or you can use libraries such as networkx or graphviz.\n",
    "For these drawings, you should use the local features for u, and pay attention to the features\n",
    "aggregated from its 1-hop neighbors, but feel free to ignore further features if they are difficult to\n",
    "incorporate. Also, you should not draw nodes that are more than 3-hops away from u. [6 points]\n",
    "Briefly argue how different structural roles are captured in 1-2 sentences. [1 point]"
   ]
  },
  {
   "cell_type": "code",
   "execution_count": 424,
   "metadata": {},
   "outputs": [],
   "source": [
    "node_g1 = int(np.where(sim_score < 0.05)[0][0])\n",
    "node_g2 = int(np.where((sim_score > 0.60) & (sim_score < 0.65))[0][0])\n",
    "node_g3 = int(np.where((sim_score > 0.85) & (sim_score < 0.90))[0][0])\n",
    "node_g4 = int(np.where((sim_score > 0.90) & (sim_score < 0.95))[0][0])"
   ]
  },
  {
   "cell_type": "code",
   "execution_count": 425,
   "metadata": {},
   "outputs": [
    {
     "name": "stdout",
     "output_type": "stream",
     "text": [
      "Group1: 1461\n",
      "Feat: [  2.           3.          13.           8.5         16.5\n",
      "  26.5         17.          33.          53.           8.5\n",
      "  16.5         26.5          6.02083333  11.92361111  26.47222222\n",
      "  51.         101.         224.5         17.          33.\n",
      "  53.          12.04166667  23.84722222  52.94444444 102.\n",
      " 202.         449.        ]\n",
      "\n",
      "Group2: 1184\n",
      "Feat: [ 2.  3.  0.  2.  3.  0.  4.  6.  0.  2.  3.  0.  2.  3.  0.  4.  6.  0.\n",
      "  4.  6.  0.  4.  6.  0.  8. 12.  0.]\n",
      "\n",
      "Group3: 460\n",
      "Feat: [  3.           6.           2.           3.66666667   7.\n",
      "   6.          11.          21.          18.           3.66666667\n",
      "   7.           6.           4.24444444   8.53333333   7.66666667\n",
      "  16.33333333  33.33333333  30.33333333  11.          21.\n",
      "  18.          12.73333333  25.6         23.          49.\n",
      " 100.          91.        ]\n",
      "\n",
      "Group4: 128\n",
      "Feat: [  5.          12.          11.           6.          15.8\n",
      "  11.2         30.          79.          56.           6.\n",
      "  15.8         11.2          6.18333333  16.13333333  12.81666667\n",
      "  36.8         96.          82.4         30.          79.\n",
      "  56.          30.91666667  80.66666667  64.08333333 184.\n",
      " 480.         412.        ]\n",
      "\n"
     ]
    }
   ],
   "source": [
    "for i, gp in enumerate([node_g1,node_g2,node_g3,node_g4], 1):\n",
    "    print(f'Group{i}: {gp}\\nFeat: {feats[gp]}\\n')"
   ]
  },
  {
   "cell_type": "code",
   "execution_count": 491,
   "metadata": {},
   "outputs": [],
   "source": [
    "def draw_subgraph(Graph, feats, node_id, nb_feats=-1):\n",
    "    g = nx.Graph()\n",
    "    \n",
    "    Node = G.GetNI(node_id)\n",
    "    nodes = getEgoNetNodes(Node)\n",
    "    \n",
    "    for node in nodes:\n",
    "        g.add_node(node)\n",
    "\n",
    "    for i in nodes:\n",
    "        for j in nodes:\n",
    "            if Graph.IsEdge(i,j):\n",
    "                sim = cos_sim(feats[i], feats[j])\n",
    "                if nb_feats > 0:\n",
    "                    sim = cos_sim(feats[i,:nb_feats], feats[j,:nb_feats])\n",
    "\n",
    "                g.add_edge(i, j, weight=round(sim, 4))\n",
    "    \n",
    "    nx.draw(g, with_labels=True, font_weight='bold')\n",
    "    labels = nx.get_edge_attributes(g, 'weight')\n",
    "    pos = nx.spring_layout(g)\n",
    "    nx.draw_networkx_edge_labels(g, pos, edge_labels=labels)\n",
    "\n",
    "    plt.title(f'{node_id}')\n",
    "    plt.show()"
   ]
  },
  {
   "cell_type": "code",
   "execution_count": 498,
   "metadata": {},
   "outputs": [
    {
     "data": {
      "image/png": "[encoded data removed]",
      "text/plain": [
       "<Figure size 432x288 with 1 Axes>"
      ]
     },
     "metadata": {},
     "output_type": "display_data"
    }
   ],
   "source": [
    "draw_subgraph(G, feats, node_g1)"
   ]
  },
  {
   "cell_type": "code",
   "execution_count": 500,
   "metadata": {},
   "outputs": [
    {
     "data": {
      "image/png": "[encoded data removed]",
      "text/plain": [
       "<Figure size 432x288 with 1 Axes>"
      ]
     },
     "metadata": {},
     "output_type": "display_data"
    }
   ],
   "source": [
    "draw_subgraph(G, feats, node_g2)"
   ]
  },
  {
   "cell_type": "code",
   "execution_count": 501,
   "metadata": {},
   "outputs": [
    {
     "data": {
      "image/png": "[encoded data removed]",
      "text/plain": [
       "<Figure size 432x288 with 1 Axes>"
      ]
     },
     "metadata": {},
     "output_type": "display_data"
    }
   ],
   "source": [
    "draw_subgraph(G, feats, node_g3)"
   ]
  },
  {
   "cell_type": "code",
   "execution_count": 502,
   "metadata": {},
   "outputs": [
    {
     "data": {
      "image/png": "[encoded data removed]",
      "text/plain": [
       "<Figure size 432x288 with 1 Axes>"
      ]
     },
     "metadata": {},
     "output_type": "display_data"
    }
   ],
   "source": [
    "draw_subgraph(G, feats, node_g4)"
   ]
  },
  {
   "cell_type": "markdown",
   "metadata": {},
   "source": [
    "# 3) Community detection using the Louvain algorithm [25 points]"
   ]
  },
  {
   "cell_type": "markdown",
   "metadata": {},
   "source": [
    "Note: For this question, assume all graphs are undirected and weighted.\n",
    "Communities are a fundamental aspect of several networks. However, it is often not an easy task\n",
    "to come up with an “optimal” grouping of nodes into communities. Through this problem, we will\n",
    "explore some properties of the Louvain algorithm for community detection (so named because the\n",
    "authors were all affiliated with the University of Louvain in Belgium at some point). The original\n",
    "paper from Blondel et al. is available here: https://arxiv.org/pdf/0803.0476.pdf. If you are\n",
    "stuck on this question at any point please refer to the paper; there is a good chance that you will\n",
    "find what you seek there.\n",
    "We will first explore the idea of modularity. The modularity of a weighted graph is a measure that\n",
    "compares the density of edges within a community to the density of edges between communities.\n",
    "Formally, we define the modularity Q for a given graph as follows:\n",
    "    \n",
    "Each pass of the algorithm has two phases, and proceeds as follows:\n",
    "* Phase 1 (Modularity Optimization): Start with each node in its own community.\n",
    "• For each node i, go over all the neighbors j of i. Calculate the change in modularity when i\n",
    "is moved from its present community to j‘s community. Find the neighbor j m for which this\n",
    "process causes the greatest increase in modularity, and assign i to j m ‘s community (break\n",
    "ties arbitrarily). If there is no positive increase in modularity during this process, keep i in\n",
    "its original community.\n",
    "• Repeat the above process for each node (going over nodes multiple times if required) until\n",
    "there is no further maximization possible (that is, each node remains in its community). This\n",
    "is the end of Phase 1.\n",
    "* Phase 2 (Community Aggregation): Once Phase 1 is done, we contract the original\n",
    "graph G to a new graph H. Each community found in G after Phase 1 becomes a node in H.\n",
    "The weights of edges in between 2 nodes in H are given by the sums of the weights between\n",
    "the respective 2 communities in G. The weights of edges within a community in G sum up\n",
    "to form a self-edge of the same weight in H (be careful while calculating self-edge weights,\n",
    "note that you will have to go once over each original node within the community in G). This\n",
    "is the end of Phase 2. Phase 1 and Phase 2 together make up a single pass of the algorithm.\n",
    "\n",
    "* Repeat Phase 1 and Phase 2 again on H and keep proceeding this way until no further\n",
    "improvement is seen (you will reach a point where each node in the graph stays in its orig-\n",
    "inal community to maximize modularity). The final modularity value is a heuristic for the\n",
    "maximum modularity of the graph."
   ]
  },
  {
   "cell_type": "markdown",
   "metadata": {},
   "source": [
    "## 3.1 Modularity gain when an isolated node moves into a community [4 points]\n",
    "\n",
    "Prove that the modularity gain seen when i merges with C"
   ]
  },
  {
   "cell_type": "markdown",
   "metadata": {},
   "source": [
    "$ \\Delta Q = Q_{f} - Q_{i} $\n",
    "\n",
    "by definition:\n",
    "\n",
    "$ Q_{i} = \\frac{1}{2m} [\\sum_{in} - (\\sum_{tot})^2  - \\frac{k_{i}^2}{2m}] $\n",
    "\n",
    "$ Q_{i} =  \\frac{\\sum_{in}}{2m} - \\frac{\\sum_{tot}}{2m}^2  - (\\frac{k_{i}}{2m})^2 $\n",
    "\n",
    "by definition:\n",
    "\n",
    "$ Q_{f} = \\frac{1}{2m} [\\sum_{in} + \\frac{k_{i,in}}{2} - \\frac{(\\sum_{tot} + k_{i})^2}{2m}] $\n",
    "\n",
    "$ Q_{f} =  \\frac{\\sum_{in} + \\frac{k_{i,in}}{2}}{2m}  - (\\frac{\\sum_{tot} + k_{i}}{2m})^2 $"
   ]
  },
  {
   "cell_type": "markdown",
   "metadata": {},
   "source": [
    "## 3.2 Louvain algorithm on a 16 node network [10 points]"
   ]
  },
  {
   "cell_type": "markdown",
   "metadata": {},
   "source": [
    "Consider the graph G (Figure 3), with 4 cliques of 4 nodes each arranged in a ring. Assume all the\n",
    "edges have same weight value 1. There exists exactly one edge between any two adjacent cliques.\n",
    "We will manually inspect the results of the Louvain algorithm on this network. The first phase of\n",
    "modularity optimization detects each clique as a single community (giving 4 communities in all).\n",
    "After the community aggregation phase, the new network H will have 4 nodes."
   ]
  },
  {
   "cell_type": "markdown",
   "metadata": {},
   "source": [
    "What is the weight of any edge between two distinct nodes in H? [1 point]\n",
    "* $ 1 $\n",
    "\n",
    "What is the weight of any self-edge in H? [2 point]\n",
    "* $ 3 * 4 = 12 $\n",
    "\n",
    "What is the modularity of H (with each node in its own community)? The easiest way to calculate modularity would be to directly apply the definition from 1 to H (also holds for upcoming questions of this type). [2 points]\n",
    "* $ 2m = \\sum A_{ij} = 4 * 12 + 4 * 2 = 48 + 8 = 56 $\n",
    "* $ Q_{H} = \\frac{1}{2m} (12 - \\frac{14^2}{2m}) * 4 \\approx 0.6071$\n",
    "\n",
    "What is the weight of any edge between two distinct nodes in J? [1 point]\n",
    "* $ 2$\n",
    "\n",
    "What is the weight of any self-edge in J? [2 point]\n",
    "* $ 26 $\n",
    "\n",
    "What is the modularity of J (with each node in its own community)? [2 points]\n",
    "* $ 2m = \\sum A_{ij} = 2 * 26 + 2 * 2 = 52 + 4 = 56 $\n",
    "* $ Q_{J} = \\frac{1}{2m} (26 - \\frac{28^2}{2m}) * 2 \\approx 0.4285$\n",
    "\n",
    "\n",
    "As expected, the modularity of J is less than the modularity of H."
   ]
  },
  {
   "cell_type": "markdown",
   "metadata": {},
   "source": [
    "## 3.3 Louvain algorithm on a 128 node network [10 points]"
   ]
  },
  {
   "cell_type": "markdown",
   "metadata": {},
   "source": [
    "Now consider a larger version of the same network, with 32 cliques of 4 nodes each (arranged in a ring as earlier); call this network G big . Again, assume all the edges have same weight value 1, and there exists exactly one edge between any two adjacent cliques. The first phase of modularity optimization, as expected, detects each clique as a single community. After aggregation, this forms a new network H big with 32 nodes."
   ]
  },
  {
   "cell_type": "markdown",
   "metadata": {},
   "source": [
    "What is the weight of any edge between two distinct nodes in $ H_{big} $? [1 point]\n",
    "* 1\n",
    "\n",
    "What is the weight of any self-edge in $ H_{big} $ ? [2 point]\n",
    "* 12\n",
    "\n",
    "What is the modularity of $ H_{big} $ (with each node in its own community)? [2 points]\n",
    "* $ 2m = \\sum A_{ij} = 32 * 12 + 32 * 2 = 384 + 64 =  448 $\n",
    "* $ Q_{H_{big}} = \\frac{1}{2m} (12 - \\frac{14^2}{2m}) * 32 \\approx 0.8258$\n",
    "\n",
    "What is the weight of any edge between two distinct nodes in $ J_{big}$ ? [1 point]\n",
    "* 2\n",
    "\n",
    "What is the weight of any self-edge in $ J_{big}$ ? [2 point]\n",
    "* 26\n",
    "\n",
    "What is the modularity of $ J_{big} $ (with each node in its own community)? [2 points]\n",
    "* $ 2m = \\sum A_{ij} = 16 * 26 + 16 * 2 = 416 + 32 = 448 $\n",
    "* $ Q_{J_{big}} = \\frac{1}{2m} (26 - \\frac{28^2}{2m}) * 16 \\approx 0.8660$\n"
   ]
  },
  {
   "cell_type": "markdown",
   "metadata": {},
   "source": [
    "## 3.4 What just happened? [1 point]"
   ]
  },
  {
   "cell_type": "markdown",
   "metadata": {},
   "source": [
    "Explain (in a few lines) why you think the algorithm behaved the way it did for the larger network (you don’t need to prove anything rigorously, a rough argument will do). In other words, what might have caused modularity to be maximized with an “unintuitive” community grouping for the larger network?"
   ]
  },
  {
   "cell_type": "markdown",
   "metadata": {},
   "source": [
    "* https://arxiv.org/pdf/physics/0607100.pdf"
   ]
  },
  {
   "cell_type": "markdown",
   "metadata": {},
   "source": [
    "# 4) Spectral clustering [25 points]"
   ]
  },
  {
   "cell_type": "code",
   "execution_count": null,
   "metadata": {},
   "outputs": [],
   "source": []
  }
 ],
 "metadata": {
  "kernelspec": {
   "display_name": "Python 3",
   "language": "python",
   "name": "python3"
  },
  "language_info": {
   "codemirror_mode": {
    "name": "ipython",
    "version": 3
   },
   "file_extension": ".py",
   "mimetype": "text/x-python",
   "name": "python",
   "nbconvert_exporter": "python",
   "pygments_lexer": "ipython3",
   "version": "3.8.5"
  }
 },
 "nbformat": 4,
 "nbformat_minor": 4
}
